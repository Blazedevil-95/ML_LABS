{
 "cells": [
  {
   "cell_type": "code",
   "execution_count": 12,
   "metadata": {},
   "outputs": [
    {
     "name": "stdout",
     "output_type": "stream",
     "text": [
      "Requirement already satisfied: nltk in c:\\programdata\\anaconda3\\lib\\site-packages (3.5)\n",
      "Requirement already satisfied: joblib in c:\\programdata\\anaconda3\\lib\\site-packages (from nltk) (0.16.0)\n",
      "Requirement already satisfied: click in c:\\programdata\\anaconda3\\lib\\site-packages (from nltk) (7.1.2)\n",
      "Requirement already satisfied: regex in c:\\programdata\\anaconda3\\lib\\site-packages (from nltk) (2020.6.8)\n",
      "Requirement already satisfied: tqdm in c:\\programdata\\anaconda3\\lib\\site-packages (from nltk) (4.47.0)\n"
     ]
    }
   ],
   "source": [
    "!pip install nltk"
   ]
  },
  {
   "cell_type": "code",
   "execution_count": 13,
   "metadata": {},
   "outputs": [],
   "source": [
    "import nltk\n"
   ]
  },
  {
   "cell_type": "code",
   "execution_count": 14,
   "metadata": {
    "execution": {
     "iopub.execute_input": "2022-01-29T10:19:31.548128Z",
     "iopub.status.busy": "2022-01-29T10:19:31.547846Z",
     "iopub.status.idle": "2022-01-29T10:19:33.869367Z",
     "shell.execute_reply": "2022-01-29T10:19:33.868530Z",
     "shell.execute_reply.started": "2022-01-29T10:19:31.548102Z"
    }
   },
   "outputs": [],
   "source": [
    "from sklearn.feature_extraction.text import CountVectorizer\n",
    "from sklearn.model_selection import train_test_split\n",
    "from sklearn.preprocessing import normalize\n",
    "from sklearn.linear_model import LogisticRegression\n",
    "from sklearn.svm import LinearSVC\n",
    "from sklearn.svm import SVC\n",
    "import matplotlib.pyplot as plt\n",
    "from sklearn.model_selection import ShuffleSplit\n",
    "from sklearn.model_selection import GridSearchCV\n",
    "from sklearn.metrics import precision_score, recall_score, f1_score\n",
    "import nltk\n",
    "from nltk.stem import PorterStemmer\n",
    "from nltk.stem import WordNetLemmatizer\n",
    "import pickle\n",
    "import pandas as pd\n",
    "import numpy as np\n",
    "import re"
   ]
  },
  {
   "cell_type": "code",
   "execution_count": 18,
   "metadata": {
    "execution": {
     "iopub.execute_input": "2022-01-29T10:19:33.902556Z",
     "iopub.status.busy": "2022-01-29T10:19:33.902321Z",
     "iopub.status.idle": "2022-01-29T10:19:53.953839Z",
     "shell.execute_reply": "2022-01-29T10:19:53.952963Z",
     "shell.execute_reply.started": "2022-01-29T10:19:33.902530Z"
    }
   },
   "outputs": [
    {
     "name": "stderr",
     "output_type": "stream",
     "text": [
      "[nltk_data] Downloading package wordnet to\n",
      "[nltk_data]     C:\\Users\\samse\\AppData\\Roaming\\nltk_data...\n",
      "[nltk_data]   Package wordnet is already up-to-date!\n"
     ]
    },
    {
     "data": {
      "text/plain": [
       "True"
      ]
     },
     "execution_count": 18,
     "metadata": {},
     "output_type": "execute_result"
    }
   ],
   "source": [
    "nltk.download('wordnet')"
   ]
  },
  {
   "cell_type": "code",
   "execution_count": 21,
   "metadata": {
    "execution": {
     "iopub.execute_input": "2022-01-29T10:19:53.962640Z",
     "iopub.status.busy": "2022-01-29T10:19:53.962122Z",
     "iopub.status.idle": "2022-01-29T10:20:20.439341Z",
     "shell.execute_reply": "2022-01-29T10:20:20.438212Z",
     "shell.execute_reply.started": "2022-01-29T10:19:53.962607Z"
    }
   },
   "outputs": [
    {
     "data": {
      "text/html": [
       "<div>\n",
       "<style scoped>\n",
       "    .dataframe tbody tr th:only-of-type {\n",
       "        vertical-align: middle;\n",
       "    }\n",
       "\n",
       "    .dataframe tbody tr th {\n",
       "        vertical-align: top;\n",
       "    }\n",
       "\n",
       "    .dataframe thead th {\n",
       "        text-align: right;\n",
       "    }\n",
       "</style>\n",
       "<table border=\"1\" class=\"dataframe\">\n",
       "  <thead>\n",
       "    <tr style=\"text-align: right;\">\n",
       "      <th></th>\n",
       "      <th>review_date</th>\n",
       "      <th>movie_id</th>\n",
       "      <th>user_id</th>\n",
       "      <th>is_spoiler</th>\n",
       "      <th>review_text</th>\n",
       "      <th>rating</th>\n",
       "      <th>review_summary</th>\n",
       "    </tr>\n",
       "  </thead>\n",
       "  <tbody>\n",
       "    <tr>\n",
       "      <th>0</th>\n",
       "      <td>10 February 2006</td>\n",
       "      <td>tt0111161</td>\n",
       "      <td>ur1898687</td>\n",
       "      <td>True</td>\n",
       "      <td>In its Oscar year, Shawshank Redemption (writt...</td>\n",
       "      <td>10</td>\n",
       "      <td>A classic piece of unforgettable film-making.</td>\n",
       "    </tr>\n",
       "    <tr>\n",
       "      <th>1</th>\n",
       "      <td>6 September 2000</td>\n",
       "      <td>tt0111161</td>\n",
       "      <td>ur0842118</td>\n",
       "      <td>True</td>\n",
       "      <td>The Shawshank Redemption is without a doubt on...</td>\n",
       "      <td>10</td>\n",
       "      <td>Simply amazing. The best film of the 90's.</td>\n",
       "    </tr>\n",
       "    <tr>\n",
       "      <th>2</th>\n",
       "      <td>3 August 2001</td>\n",
       "      <td>tt0111161</td>\n",
       "      <td>ur1285640</td>\n",
       "      <td>True</td>\n",
       "      <td>I believe that this film is the best story eve...</td>\n",
       "      <td>8</td>\n",
       "      <td>The best story ever told on film</td>\n",
       "    </tr>\n",
       "    <tr>\n",
       "      <th>3</th>\n",
       "      <td>1 September 2002</td>\n",
       "      <td>tt0111161</td>\n",
       "      <td>ur1003471</td>\n",
       "      <td>True</td>\n",
       "      <td>**Yes, there are SPOILERS here**This film has ...</td>\n",
       "      <td>10</td>\n",
       "      <td>Busy dying or busy living?</td>\n",
       "    </tr>\n",
       "    <tr>\n",
       "      <th>4</th>\n",
       "      <td>20 May 2004</td>\n",
       "      <td>tt0111161</td>\n",
       "      <td>ur0226855</td>\n",
       "      <td>True</td>\n",
       "      <td>At the heart of this extraordinary movie is a ...</td>\n",
       "      <td>8</td>\n",
       "      <td>Great story, wondrously told and acted</td>\n",
       "    </tr>\n",
       "  </tbody>\n",
       "</table>\n",
       "</div>"
      ],
      "text/plain": [
       "        review_date   movie_id    user_id  is_spoiler  \\\n",
       "0  10 February 2006  tt0111161  ur1898687        True   \n",
       "1  6 September 2000  tt0111161  ur0842118        True   \n",
       "2     3 August 2001  tt0111161  ur1285640        True   \n",
       "3  1 September 2002  tt0111161  ur1003471        True   \n",
       "4       20 May 2004  tt0111161  ur0226855        True   \n",
       "\n",
       "                                         review_text  rating  \\\n",
       "0  In its Oscar year, Shawshank Redemption (writt...      10   \n",
       "1  The Shawshank Redemption is without a doubt on...      10   \n",
       "2  I believe that this film is the best story eve...       8   \n",
       "3  **Yes, there are SPOILERS here**This film has ...      10   \n",
       "4  At the heart of this extraordinary movie is a ...       8   \n",
       "\n",
       "                                  review_summary  \n",
       "0  A classic piece of unforgettable film-making.  \n",
       "1     Simply amazing. The best film of the 90's.  \n",
       "2               The best story ever told on film  \n",
       "3                     Busy dying or busy living?  \n",
       "4         Great story, wondrously told and acted  "
      ]
     },
     "execution_count": 21,
     "metadata": {},
     "output_type": "execute_result"
    }
   ],
   "source": [
    "df = pd.read_json(r\"C:\\Users\\samse\\Untitled Folder 1\\IMDB_reviews.json\\IMDB_reviews.json\", lines=True)\n",
    "df\n",
    "df.head()"
   ]
  },
  {
   "cell_type": "code",
   "execution_count": 22,
   "metadata": {
    "execution": {
     "iopub.execute_input": "2022-01-29T11:40:43.901508Z",
     "iopub.status.busy": "2022-01-29T11:40:43.901107Z",
     "iopub.status.idle": "2022-01-29T11:40:43.911152Z",
     "shell.execute_reply": "2022-01-29T11:40:43.910248Z",
     "shell.execute_reply.started": "2022-01-29T11:40:43.901462Z"
    }
   },
   "outputs": [
    {
     "data": {
      "text/plain": [
       "0         10 February 2006\n",
       "1         6 September 2000\n",
       "2            3 August 2001\n",
       "3         1 September 2002\n",
       "4              20 May 2004\n",
       "                ...       \n",
       "573908       8 August 1999\n",
       "573909        31 July 1999\n",
       "573910        20 July 1999\n",
       "573911        11 June 1999\n",
       "573912          3 May 1999\n",
       "Name: review_date, Length: 573913, dtype: object"
      ]
     },
     "execution_count": 22,
     "metadata": {},
     "output_type": "execute_result"
    }
   ],
   "source": [
    "df.review_date"
   ]
  },
  {
   "cell_type": "code",
   "execution_count": 23,
   "metadata": {
    "execution": {
     "iopub.execute_input": "2022-01-29T10:20:20.442461Z",
     "iopub.status.busy": "2022-01-29T10:20:20.441285Z",
     "iopub.status.idle": "2022-01-29T10:20:20.451202Z",
     "shell.execute_reply": "2022-01-29T10:20:20.449822Z",
     "shell.execute_reply.started": "2022-01-29T10:20:20.442390Z"
    }
   },
   "outputs": [],
   "source": [
    "def seperate_reviews(df, count_reviews):\n",
    "  spoiler_sum = df['is_spoiler'].sum()   # Number of spoilers in the dataset\n",
    "  fraction_spoiler_postive = num_reviews/spoiler_sum  # fraction of spoiler reviews to be returned\n",
    "  fraction_spoiler_negative = num_reviews/(df.shape[0] - num_pos_reviews)  # fraction of non-spoiler reviews to be returned \n",
    "\n",
    "  df_is_spoiler = df[df['is_spoiler']]['review_text'].sample(frac = fraction_pos, random_state = 2)\n",
    "  df_not_spoiler = df[df['is_spoiler'] == False]['review_text'].sample(frac = fraction_neg, random_state = 2)\n",
    "\n",
    "  df_reviews = pd.concat([df_is_spoiler, df_not_spoiler])\n",
    "  df_reviews = df_reviews.reset_index(drop=True)\n",
    "  labels = [1]*(count_reviews*2)\n",
    "  print(len(labels))\n",
    "  labeled_col[count_reviews:] = [0]*count_reviews\n",
    "\n",
    "  return df_reviews, labeled_col"
   ]
  },
  {
   "cell_type": "code",
   "execution_count": 24,
   "metadata": {
    "execution": {
     "iopub.execute_input": "2022-01-29T10:20:20.453264Z",
     "iopub.status.busy": "2022-01-29T10:20:20.452940Z",
     "iopub.status.idle": "2022-01-29T10:20:20.676616Z",
     "shell.execute_reply": "2022-01-29T10:20:20.675975Z",
     "shell.execute_reply.started": "2022-01-29T10:20:20.453222Z"
    }
   },
   "outputs": [
    {
     "name": "stdout",
     "output_type": "stream",
     "text": [
      "10000\n"
     ]
    },
    {
     "data": {
      "text/plain": [
       "[1,\n",
       " 1,\n",
       " 1,\n",
       " 1,\n",
       " 1,\n",
       " 1,\n",
       " 1,\n",
       " 1,\n",
       " 1,\n",
       " 1,\n",
       " 1,\n",
       " 1,\n",
       " 1,\n",
       " 1,\n",
       " 1,\n",
       " 1,\n",
       " 1,\n",
       " 1,\n",
       " 1,\n",
       " 1,\n",
       " 1,\n",
       " 1,\n",
       " 1,\n",
       " 1,\n",
       " 1,\n",
       " 1,\n",
       " 1,\n",
       " 1,\n",
       " 1,\n",
       " 1,\n",
       " 1,\n",
       " 1,\n",
       " 1,\n",
       " 1,\n",
       " 1,\n",
       " 1,\n",
       " 1,\n",
       " 1,\n",
       " 1,\n",
       " 1,\n",
       " 1,\n",
       " 1,\n",
       " 1,\n",
       " 1,\n",
       " 1,\n",
       " 1,\n",
       " 1,\n",
       " 1,\n",
       " 1,\n",
       " 1,\n",
       " 1,\n",
       " 1,\n",
       " 1,\n",
       " 1,\n",
       " 1,\n",
       " 1,\n",
       " 1,\n",
       " 1,\n",
       " 1,\n",
       " 1,\n",
       " 1,\n",
       " 1,\n",
       " 1,\n",
       " 1,\n",
       " 1,\n",
       " 1,\n",
       " 1,\n",
       " 1,\n",
       " 1,\n",
       " 1,\n",
       " 1,\n",
       " 1,\n",
       " 1,\n",
       " 1,\n",
       " 1,\n",
       " 1,\n",
       " 1,\n",
       " 1,\n",
       " 1,\n",
       " 1,\n",
       " 1,\n",
       " 1,\n",
       " 1,\n",
       " 1,\n",
       " 1,\n",
       " 1,\n",
       " 1,\n",
       " 1,\n",
       " 1,\n",
       " 1,\n",
       " 1,\n",
       " 1,\n",
       " 1,\n",
       " 1,\n",
       " 1,\n",
       " 1,\n",
       " 1,\n",
       " 1,\n",
       " 1,\n",
       " 1,\n",
       " 1,\n",
       " 1,\n",
       " 1,\n",
       " 1,\n",
       " 1,\n",
       " 1,\n",
       " 1,\n",
       " 1,\n",
       " 1,\n",
       " 1,\n",
       " 1,\n",
       " 1,\n",
       " 1,\n",
       " 1,\n",
       " 1,\n",
       " 1,\n",
       " 1,\n",
       " 1,\n",
       " 1,\n",
       " 1,\n",
       " 1,\n",
       " 1,\n",
       " 1,\n",
       " 1,\n",
       " 1,\n",
       " 1,\n",
       " 1,\n",
       " 1,\n",
       " 1,\n",
       " 1,\n",
       " 1,\n",
       " 1,\n",
       " 1,\n",
       " 1,\n",
       " 1,\n",
       " 1,\n",
       " 1,\n",
       " 1,\n",
       " 1,\n",
       " 1,\n",
       " 1,\n",
       " 1,\n",
       " 1,\n",
       " 1,\n",
       " 1,\n",
       " 1,\n",
       " 1,\n",
       " 1,\n",
       " 1,\n",
       " 1,\n",
       " 1,\n",
       " 1,\n",
       " 1,\n",
       " 1,\n",
       " 1,\n",
       " 1,\n",
       " 1,\n",
       " 1,\n",
       " 1,\n",
       " 1,\n",
       " 1,\n",
       " 1,\n",
       " 1,\n",
       " 1,\n",
       " 1,\n",
       " 1,\n",
       " 1,\n",
       " 1,\n",
       " 1,\n",
       " 1,\n",
       " 1,\n",
       " 1,\n",
       " 1,\n",
       " 1,\n",
       " 1,\n",
       " 1,\n",
       " 1,\n",
       " 1,\n",
       " 1,\n",
       " 1,\n",
       " 1,\n",
       " 1,\n",
       " 1,\n",
       " 1,\n",
       " 1,\n",
       " 1,\n",
       " 1,\n",
       " 1,\n",
       " 1,\n",
       " 1,\n",
       " 1,\n",
       " 1,\n",
       " 1,\n",
       " 1,\n",
       " 1,\n",
       " 1,\n",
       " 1,\n",
       " 1,\n",
       " 1,\n",
       " 1,\n",
       " 1,\n",
       " 1,\n",
       " 1,\n",
       " 1,\n",
       " 1,\n",
       " 1,\n",
       " 1,\n",
       " 1,\n",
       " 1,\n",
       " 1,\n",
       " 1,\n",
       " 1,\n",
       " 1,\n",
       " 1,\n",
       " 1,\n",
       " 1,\n",
       " 1,\n",
       " 1,\n",
       " 1,\n",
       " 1,\n",
       " 1,\n",
       " 1,\n",
       " 1,\n",
       " 1,\n",
       " 1,\n",
       " 1,\n",
       " 1,\n",
       " 1,\n",
       " 1,\n",
       " 1,\n",
       " 1,\n",
       " 1,\n",
       " 1,\n",
       " 1,\n",
       " 1,\n",
       " 1,\n",
       " 1,\n",
       " 1,\n",
       " 1,\n",
       " 1,\n",
       " 1,\n",
       " 1,\n",
       " 1,\n",
       " 1,\n",
       " 1,\n",
       " 1,\n",
       " 1,\n",
       " 1,\n",
       " 1,\n",
       " 1,\n",
       " 1,\n",
       " 1,\n",
       " 1,\n",
       " 1,\n",
       " 1,\n",
       " 1,\n",
       " 1,\n",
       " 1,\n",
       " 1,\n",
       " 1,\n",
       " 1,\n",
       " 1,\n",
       " 1,\n",
       " 1,\n",
       " 1,\n",
       " 1,\n",
       " 1,\n",
       " 1,\n",
       " 1,\n",
       " 1,\n",
       " 1,\n",
       " 1,\n",
       " 1,\n",
       " 1,\n",
       " 1,\n",
       " 1,\n",
       " 1,\n",
       " 1,\n",
       " 1,\n",
       " 1,\n",
       " 1,\n",
       " 1,\n",
       " 1,\n",
       " 1,\n",
       " 1,\n",
       " 1,\n",
       " 1,\n",
       " 1,\n",
       " 1,\n",
       " 1,\n",
       " 1,\n",
       " 1,\n",
       " 1,\n",
       " 1,\n",
       " 1,\n",
       " 1,\n",
       " 1,\n",
       " 1,\n",
       " 1,\n",
       " 1,\n",
       " 1,\n",
       " 1,\n",
       " 1,\n",
       " 1,\n",
       " 1,\n",
       " 1,\n",
       " 1,\n",
       " 1,\n",
       " 1,\n",
       " 1,\n",
       " 1,\n",
       " 1,\n",
       " 1,\n",
       " 1,\n",
       " 1,\n",
       " 1,\n",
       " 1,\n",
       " 1,\n",
       " 1,\n",
       " 1,\n",
       " 1,\n",
       " 1,\n",
       " 1,\n",
       " 1,\n",
       " 1,\n",
       " 1,\n",
       " 1,\n",
       " 1,\n",
       " 1,\n",
       " 1,\n",
       " 1,\n",
       " 1,\n",
       " 1,\n",
       " 1,\n",
       " 1,\n",
       " 1,\n",
       " 1,\n",
       " 1,\n",
       " 1,\n",
       " 1,\n",
       " 1,\n",
       " 1,\n",
       " 1,\n",
       " 1,\n",
       " 1,\n",
       " 1,\n",
       " 1,\n",
       " 1,\n",
       " 1,\n",
       " 1,\n",
       " 1,\n",
       " 1,\n",
       " 1,\n",
       " 1,\n",
       " 1,\n",
       " 1,\n",
       " 1,\n",
       " 1,\n",
       " 1,\n",
       " 1,\n",
       " 1,\n",
       " 1,\n",
       " 1,\n",
       " 1,\n",
       " 1,\n",
       " 1,\n",
       " 1,\n",
       " 1,\n",
       " 1,\n",
       " 1,\n",
       " 1,\n",
       " 1,\n",
       " 1,\n",
       " 1,\n",
       " 1,\n",
       " 1,\n",
       " 1,\n",
       " 1,\n",
       " 1,\n",
       " 1,\n",
       " 1,\n",
       " 1,\n",
       " 1,\n",
       " 1,\n",
       " 1,\n",
       " 1,\n",
       " 1,\n",
       " 1,\n",
       " 1,\n",
       " 1,\n",
       " 1,\n",
       " 1,\n",
       " 1,\n",
       " 1,\n",
       " 1,\n",
       " 1,\n",
       " 1,\n",
       " 1,\n",
       " 1,\n",
       " 1,\n",
       " 1,\n",
       " 1,\n",
       " 1,\n",
       " 1,\n",
       " 1,\n",
       " 1,\n",
       " 1,\n",
       " 1,\n",
       " 1,\n",
       " 1,\n",
       " 1,\n",
       " 1,\n",
       " 1,\n",
       " 1,\n",
       " 1,\n",
       " 1,\n",
       " 1,\n",
       " 1,\n",
       " 1,\n",
       " 1,\n",
       " 1,\n",
       " 1,\n",
       " 1,\n",
       " 1,\n",
       " 1,\n",
       " 1,\n",
       " 1,\n",
       " 1,\n",
       " 1,\n",
       " 1,\n",
       " 1,\n",
       " 1,\n",
       " 1,\n",
       " 1,\n",
       " 1,\n",
       " 1,\n",
       " 1,\n",
       " 1,\n",
       " 1,\n",
       " 1,\n",
       " 1,\n",
       " 1,\n",
       " 1,\n",
       " 1,\n",
       " 1,\n",
       " 1,\n",
       " 1,\n",
       " 1,\n",
       " 1,\n",
       " 1,\n",
       " 1,\n",
       " 1,\n",
       " 1,\n",
       " 1,\n",
       " 1,\n",
       " 1,\n",
       " 1,\n",
       " 1,\n",
       " 1,\n",
       " 1,\n",
       " 1,\n",
       " 1,\n",
       " 1,\n",
       " 1,\n",
       " 1,\n",
       " 1,\n",
       " 1,\n",
       " 1,\n",
       " 1,\n",
       " 1,\n",
       " 1,\n",
       " 1,\n",
       " 1,\n",
       " 1,\n",
       " 1,\n",
       " 1,\n",
       " 1,\n",
       " 1,\n",
       " 1,\n",
       " 1,\n",
       " 1,\n",
       " 1,\n",
       " 1,\n",
       " 1,\n",
       " 1,\n",
       " 1,\n",
       " 1,\n",
       " 1,\n",
       " 1,\n",
       " 1,\n",
       " 1,\n",
       " 1,\n",
       " 1,\n",
       " 1,\n",
       " 1,\n",
       " 1,\n",
       " 1,\n",
       " 1,\n",
       " 1,\n",
       " 1,\n",
       " 1,\n",
       " 1,\n",
       " 1,\n",
       " 1,\n",
       " 1,\n",
       " 1,\n",
       " 1,\n",
       " 1,\n",
       " 1,\n",
       " 1,\n",
       " 1,\n",
       " 1,\n",
       " 1,\n",
       " 1,\n",
       " 1,\n",
       " 1,\n",
       " 1,\n",
       " 1,\n",
       " 1,\n",
       " 1,\n",
       " 1,\n",
       " 1,\n",
       " 1,\n",
       " 1,\n",
       " 1,\n",
       " 1,\n",
       " 1,\n",
       " 1,\n",
       " 1,\n",
       " 1,\n",
       " 1,\n",
       " 1,\n",
       " 1,\n",
       " 1,\n",
       " 1,\n",
       " 1,\n",
       " 1,\n",
       " 1,\n",
       " 1,\n",
       " 1,\n",
       " 1,\n",
       " 1,\n",
       " 1,\n",
       " 1,\n",
       " 1,\n",
       " 1,\n",
       " 1,\n",
       " 1,\n",
       " 1,\n",
       " 1,\n",
       " 1,\n",
       " 1,\n",
       " 1,\n",
       " 1,\n",
       " 1,\n",
       " 1,\n",
       " 1,\n",
       " 1,\n",
       " 1,\n",
       " 1,\n",
       " 1,\n",
       " 1,\n",
       " 1,\n",
       " 1,\n",
       " 1,\n",
       " 1,\n",
       " 1,\n",
       " 1,\n",
       " 1,\n",
       " 1,\n",
       " 1,\n",
       " 1,\n",
       " 1,\n",
       " 1,\n",
       " 1,\n",
       " 1,\n",
       " 1,\n",
       " 1,\n",
       " 1,\n",
       " 1,\n",
       " 1,\n",
       " 1,\n",
       " 1,\n",
       " 1,\n",
       " 1,\n",
       " 1,\n",
       " 1,\n",
       " 1,\n",
       " 1,\n",
       " 1,\n",
       " 1,\n",
       " 1,\n",
       " 1,\n",
       " 1,\n",
       " 1,\n",
       " 1,\n",
       " 1,\n",
       " 1,\n",
       " 1,\n",
       " 1,\n",
       " 1,\n",
       " 1,\n",
       " 1,\n",
       " 1,\n",
       " 1,\n",
       " 1,\n",
       " 1,\n",
       " 1,\n",
       " 1,\n",
       " 1,\n",
       " 1,\n",
       " 1,\n",
       " 1,\n",
       " 1,\n",
       " 1,\n",
       " 1,\n",
       " 1,\n",
       " 1,\n",
       " 1,\n",
       " 1,\n",
       " 1,\n",
       " 1,\n",
       " 1,\n",
       " 1,\n",
       " 1,\n",
       " 1,\n",
       " 1,\n",
       " 1,\n",
       " 1,\n",
       " 1,\n",
       " 1,\n",
       " 1,\n",
       " 1,\n",
       " 1,\n",
       " 1,\n",
       " 1,\n",
       " 1,\n",
       " 1,\n",
       " 1,\n",
       " 1,\n",
       " 1,\n",
       " 1,\n",
       " 1,\n",
       " 1,\n",
       " 1,\n",
       " 1,\n",
       " 1,\n",
       " 1,\n",
       " 1,\n",
       " 1,\n",
       " 1,\n",
       " 1,\n",
       " 1,\n",
       " 1,\n",
       " 1,\n",
       " 1,\n",
       " 1,\n",
       " 1,\n",
       " 1,\n",
       " 1,\n",
       " 1,\n",
       " 1,\n",
       " 1,\n",
       " 1,\n",
       " 1,\n",
       " 1,\n",
       " 1,\n",
       " 1,\n",
       " 1,\n",
       " 1,\n",
       " 1,\n",
       " 1,\n",
       " 1,\n",
       " 1,\n",
       " 1,\n",
       " 1,\n",
       " 1,\n",
       " 1,\n",
       " 1,\n",
       " 1,\n",
       " 1,\n",
       " 1,\n",
       " 1,\n",
       " 1,\n",
       " 1,\n",
       " 1,\n",
       " 1,\n",
       " 1,\n",
       " 1,\n",
       " 1,\n",
       " 1,\n",
       " 1,\n",
       " 1,\n",
       " 1,\n",
       " 1,\n",
       " 1,\n",
       " 1,\n",
       " 1,\n",
       " 1,\n",
       " 1,\n",
       " 1,\n",
       " 1,\n",
       " 1,\n",
       " 1,\n",
       " 1,\n",
       " 1,\n",
       " 1,\n",
       " 1,\n",
       " 1,\n",
       " 1,\n",
       " 1,\n",
       " 1,\n",
       " 1,\n",
       " 1,\n",
       " 1,\n",
       " 1,\n",
       " 1,\n",
       " 1,\n",
       " 1,\n",
       " 1,\n",
       " 1,\n",
       " 1,\n",
       " 1,\n",
       " 1,\n",
       " 1,\n",
       " 1,\n",
       " 1,\n",
       " 1,\n",
       " 1,\n",
       " 1,\n",
       " 1,\n",
       " 1,\n",
       " 1,\n",
       " 1,\n",
       " 1,\n",
       " 1,\n",
       " 1,\n",
       " 1,\n",
       " 1,\n",
       " 1,\n",
       " 1,\n",
       " 1,\n",
       " 1,\n",
       " 1,\n",
       " 1,\n",
       " 1,\n",
       " 1,\n",
       " 1,\n",
       " 1,\n",
       " 1,\n",
       " 1,\n",
       " 1,\n",
       " 1,\n",
       " 1,\n",
       " 1,\n",
       " 1,\n",
       " 1,\n",
       " 1,\n",
       " 1,\n",
       " 1,\n",
       " 1,\n",
       " 1,\n",
       " 1,\n",
       " 1,\n",
       " 1,\n",
       " 1,\n",
       " 1,\n",
       " 1,\n",
       " 1,\n",
       " 1,\n",
       " 1,\n",
       " 1,\n",
       " 1,\n",
       " 1,\n",
       " 1,\n",
       " 1,\n",
       " 1,\n",
       " 1,\n",
       " 1,\n",
       " 1,\n",
       " 1,\n",
       " 1,\n",
       " 1,\n",
       " 1,\n",
       " 1,\n",
       " 1,\n",
       " 1,\n",
       " 1,\n",
       " 1,\n",
       " 1,\n",
       " 1,\n",
       " 1,\n",
       " 1,\n",
       " 1,\n",
       " 1,\n",
       " 1,\n",
       " 1,\n",
       " 1,\n",
       " 1,\n",
       " 1,\n",
       " 1,\n",
       " 1,\n",
       " 1,\n",
       " 1,\n",
       " 1,\n",
       " 1,\n",
       " 1,\n",
       " 1,\n",
       " 1,\n",
       " 1,\n",
       " 1,\n",
       " 1,\n",
       " 1,\n",
       " 1,\n",
       " 1,\n",
       " 1,\n",
       " 1,\n",
       " 1,\n",
       " 1,\n",
       " 1,\n",
       " 1,\n",
       " 1,\n",
       " 1,\n",
       " 1,\n",
       " 1,\n",
       " 1,\n",
       " 1,\n",
       " 1,\n",
       " 1,\n",
       " 1,\n",
       " 1,\n",
       " 1,\n",
       " 1,\n",
       " 1,\n",
       " 1,\n",
       " 1,\n",
       " 1,\n",
       " 1,\n",
       " 1,\n",
       " 1,\n",
       " 1,\n",
       " 1,\n",
       " 1,\n",
       " 1,\n",
       " 1,\n",
       " 1,\n",
       " 1,\n",
       " 1,\n",
       " 1,\n",
       " 1,\n",
       " 1,\n",
       " 1,\n",
       " 1,\n",
       " 1,\n",
       " 1,\n",
       " 1,\n",
       " 1,\n",
       " 1,\n",
       " 1,\n",
       " 1,\n",
       " 1,\n",
       " 1,\n",
       " 1,\n",
       " 1,\n",
       " 1,\n",
       " 1,\n",
       " 1,\n",
       " 1,\n",
       " 1,\n",
       " 1,\n",
       " 1,\n",
       " 1,\n",
       " 1,\n",
       " 1,\n",
       " 1,\n",
       " 1,\n",
       " 1,\n",
       " 1,\n",
       " 1,\n",
       " 1,\n",
       " 1,\n",
       " 1,\n",
       " 1,\n",
       " 1,\n",
       " 1,\n",
       " 1,\n",
       " 1,\n",
       " 1,\n",
       " 1,\n",
       " 1,\n",
       " 1,\n",
       " 1,\n",
       " 1,\n",
       " 1,\n",
       " 1,\n",
       " 1,\n",
       " 1,\n",
       " 1,\n",
       " 1,\n",
       " 1,\n",
       " 1,\n",
       " 1,\n",
       " 1,\n",
       " 1,\n",
       " 1,\n",
       " 1,\n",
       " 1,\n",
       " 1,\n",
       " 1,\n",
       " 1,\n",
       " 1,\n",
       " 1,\n",
       " 1,\n",
       " 1,\n",
       " 1,\n",
       " 1,\n",
       " 1,\n",
       " 1,\n",
       " 1,\n",
       " 1,\n",
       " 1,\n",
       " 1,\n",
       " 1,\n",
       " 1,\n",
       " 1,\n",
       " 1,\n",
       " 1,\n",
       " 1,\n",
       " 1,\n",
       " 1,\n",
       " 1,\n",
       " 1,\n",
       " 1,\n",
       " 1,\n",
       " 1,\n",
       " 1,\n",
       " 1,\n",
       " 1,\n",
       " 1,\n",
       " 1,\n",
       " 1,\n",
       " 1,\n",
       " 1,\n",
       " 1,\n",
       " 1,\n",
       " 1,\n",
       " 1,\n",
       " 1,\n",
       " 1,\n",
       " 1,\n",
       " 1,\n",
       " 1,\n",
       " 1,\n",
       " 1,\n",
       " 1,\n",
       " 1,\n",
       " 1,\n",
       " 1,\n",
       " 1,\n",
       " 1,\n",
       " 1,\n",
       " 1,\n",
       " 1,\n",
       " 1,\n",
       " 1,\n",
       " 1,\n",
       " 1,\n",
       " 1,\n",
       " 1,\n",
       " 1,\n",
       " 1,\n",
       " 1,\n",
       " 1,\n",
       " 1,\n",
       " 1,\n",
       " 1,\n",
       " 1,\n",
       " 1,\n",
       " 1,\n",
       " 1,\n",
       " 1,\n",
       " 1,\n",
       " 1,\n",
       " 1,\n",
       " 1,\n",
       " 1,\n",
       " 1,\n",
       " 1,\n",
       " 1,\n",
       " 1,\n",
       " 1,\n",
       " 1,\n",
       " 1,\n",
       " 1,\n",
       " 1,\n",
       " 1,\n",
       " 1,\n",
       " 1,\n",
       " 1,\n",
       " 1,\n",
       " ...]"
      ]
     },
     "execution_count": 24,
     "metadata": {},
     "output_type": "execute_result"
    }
   ],
   "source": [
    "df_reviews, labels = seperate_reviews(df, 5000)\n",
    "labels"
   ]
  },
  {
   "cell_type": "code",
   "execution_count": 25,
   "metadata": {
    "execution": {
     "iopub.execute_input": "2022-01-29T10:20:20.679296Z",
     "iopub.status.busy": "2022-01-29T10:20:20.678649Z",
     "iopub.status.idle": "2022-01-29T10:20:20.697040Z",
     "shell.execute_reply": "2022-01-29T10:20:20.696107Z",
     "shell.execute_reply.started": "2022-01-29T10:20:20.679264Z"
    }
   },
   "outputs": [],
   "source": [
    "X_train, X_test, y_train, y_test = train_test_split(df_reviews, labels, test_size=0.1, random_state=21, stratify=labels)"
   ]
  },
  {
   "cell_type": "code",
   "execution_count": 26,
   "metadata": {
    "execution": {
     "iopub.execute_input": "2022-01-29T10:20:20.698489Z",
     "iopub.status.busy": "2022-01-29T10:20:20.698222Z",
     "iopub.status.idle": "2022-01-29T10:20:20.704465Z",
     "shell.execute_reply": "2022-01-29T10:20:20.703465Z",
     "shell.execute_reply.started": "2022-01-29T10:20:20.698454Z"
    }
   },
   "outputs": [
    {
     "data": {
      "text/plain": [
       "((9000,), (1000,), 9000, 1000)"
      ]
     },
     "execution_count": 26,
     "metadata": {},
     "output_type": "execute_result"
    }
   ],
   "source": [
    "X_train.shape, X_test.shape, len(y_train), len(y_test)"
   ]
  },
  {
   "cell_type": "code",
   "execution_count": 27,
   "metadata": {
    "execution": {
     "iopub.execute_input": "2022-01-29T10:20:20.706418Z",
     "iopub.status.busy": "2022-01-29T10:20:20.705931Z",
     "iopub.status.idle": "2022-01-29T10:20:20.717704Z",
     "shell.execute_reply": "2022-01-29T10:20:20.716785Z",
     "shell.execute_reply.started": "2022-01-29T10:20:20.706385Z"
    }
   },
   "outputs": [],
   "source": [
    "def get_vector_from_features(X, min_df=0, stop_words=False, ngram_range=(1,1), verbose = True, tokenizer=None, binary=False):\n",
    "  vectors = CountVectorizer(min_df=min_df, stop_words = \"english\" if stop_words else None, ngram_range=ngram_range, tokenizer=tokenizer, binary=binary)\n",
    "  vectors.fit(X)                                             # Create the vocabulary of words for the given reviews dataset\n",
    "\n",
    "  print(\"Vocabulary size: {}\".format(len(vect.vocabulary_)))\n",
    "\n",
    "  if verbose:\n",
    "    feature_names = vect.get_feature_names()\n",
    "    print(\"Number of features: {}\".format(len(feature_names)))\n",
    "    print(\"First 20 features:\\n{}\".format(feature_names[:20]))\n",
    "    print(\"Features 20010 to 20030:\\n{}\".format(feature_names[20010:20030]))\n",
    "    print(\"Every 2000th feature:\\n{}\".format(feature_names[::2000]))\n",
    "\n",
    "  bag_of_words = vectors.transform(X)               # Transform the reviews into feature vector\n",
    "  bag_of_words_norm = normalize(bag_of_words, norm='l2')  # Normalize the feature vectors obtained\n",
    "\n",
    "  return bag_of_words_norm, vectors"
   ]
  },
  {
   "cell_type": "code",
   "execution_count": 28,
   "metadata": {
    "execution": {
     "iopub.execute_input": "2022-01-29T10:20:20.719289Z",
     "iopub.status.busy": "2022-01-29T10:20:20.718708Z",
     "iopub.status.idle": "2022-01-29T10:20:20.729811Z",
     "shell.execute_reply": "2022-01-29T10:20:20.729024Z",
     "shell.execute_reply.started": "2022-01-29T10:20:20.719248Z"
    }
   },
   "outputs": [],
   "source": [
    "def evaluate_model(model, X_train, X_test, y_train, y_test):\n",
    "    print(\"Training accuracy: \" + str(model.score(X_train, y_train)))\n",
    "    print(\"Testing accuracy: \" + str(model.score(X_test, y_test)))\n",
    "    y_pred = model.predict(X_test)\n",
    "    print(\"Precision on test data: \" + str(precision_score(y_test, y_pred)))\n",
    "    print(\"Recall on test data: \" + str(recall_score(y_test, y_pred)))\n",
    "    print(\"f1 score on test data: \" + str(f1_score(y_test, y_pred)))"
   ]
  },
  {
   "cell_type": "code",
   "execution_count": 29,
   "metadata": {
    "execution": {
     "iopub.execute_input": "2022-01-29T10:20:20.731424Z",
     "iopub.status.busy": "2022-01-29T10:20:20.730753Z",
     "iopub.status.idle": "2022-01-29T10:20:20.745708Z",
     "shell.execute_reply": "2022-01-29T10:20:20.745052Z",
     "shell.execute_reply.started": "2022-01-29T10:20:20.731390Z"
    }
   },
   "outputs": [],
   "source": [
    "def tune_parameters(model, X_train, y_train, param_grid, verbose=False, cv=5):\n",
    "    clf = GridSearchCV(model, param_grid=param_grid, cv=cv, n_jobs=-1, return_train_score=True)\n",
    "    clf.fit(X_train, y_train)\n",
    "    results = clf.cv_results_\n",
    "\n",
    "    if verbose:\n",
    "        plt.figure()\n",
    "        plt.plot(results['param_C'], results['mean_train_score'])\n",
    "        plt.plot(results['param_C'], results['mean_test_score'])\n",
    "        plt.xlabel(list(param_grid.keys())[0])\n",
    "        plt.ylabel(\"Accuracy\")\n",
    "        plt.show()\n",
    "\n",
    "    return clf"
   ]
  },
  {
   "cell_type": "code",
   "execution_count": 30,
   "metadata": {
    "execution": {
     "iopub.execute_input": "2022-01-29T10:20:20.748670Z",
     "iopub.status.busy": "2022-01-29T10:20:20.748275Z",
     "iopub.status.idle": "2022-01-29T10:20:20.758898Z",
     "shell.execute_reply": "2022-01-29T10:20:20.757978Z",
     "shell.execute_reply.started": "2022-01-29T10:20:20.748639Z"
    }
   },
   "outputs": [],
   "source": [
    "ss = ShuffleSplit(n_splits=1, test_size=0.20, random_state=0)"
   ]
  },
  {
   "cell_type": "code",
   "execution_count": 31,
   "metadata": {
    "execution": {
     "iopub.execute_input": "2022-01-29T10:20:20.760549Z",
     "iopub.status.busy": "2022-01-29T10:20:20.760139Z",
     "iopub.status.idle": "2022-01-29T10:20:24.745995Z",
     "shell.execute_reply": "2022-01-29T10:20:24.744988Z",
     "shell.execute_reply.started": "2022-01-29T10:20:20.760519Z"
    }
   },
   "outputs": [
    {
     "name": "stdout",
     "output_type": "stream",
     "text": [
      "Vocabulary size: 48672\n",
      "Number of features: 48672\n",
      "First 20 features:\n",
      "['00', '000', '0000000', '0001', '000usd', '007', '00s', '00t', '01', '01100011', '01101100', '01110101', '01111001', '02', '03', '04', '045', '05', '06', '07']\n",
      "Features 20010 to 20030:\n",
      "['heiglit', 'heil', 'heinlei', 'heinlein', 'heinous', 'heinously', 'heinreich', 'heinrich', 'heinrichs', 'heir', 'heiress', 'heirloom', 'heirs', 'heisserer', 'heist', 'heists', 'hejira', 'hela', 'helander', 'held']\n",
      "Every 2000th feature:\n",
      "['00', 'als', 'barbarity', 'brin', 'chuck', 'cowardice', 'didlaugh', 'elena', 'fedora', 'gerd', 'heidelberg', 'infinity', 'kimball', 'm203', 'mlk', 'obstructions', 'persona', 'psychopaths', 'resputin', 'scupper', 'socialists', 'superimposed', 'torso', 'using', 'woolsey']\n"
     ]
    }
   ],
   "source": [
    "bag_of_words_norm, vect = get_vector_from_features(X_train)"
   ]
  },
  {
   "cell_type": "code",
   "execution_count": 32,
   "metadata": {
    "execution": {
     "iopub.execute_input": "2022-01-29T10:20:24.747429Z",
     "iopub.status.busy": "2022-01-29T10:20:24.747182Z",
     "iopub.status.idle": "2022-01-29T10:20:24.964998Z",
     "shell.execute_reply": "2022-01-29T10:20:24.964149Z",
     "shell.execute_reply.started": "2022-01-29T10:20:24.747401Z"
    }
   },
   "outputs": [
    {
     "data": {
      "text/plain": [
       "<1000x48672 sparse matrix of type '<class 'numpy.float64'>'\n",
       "\twith 153846 stored elements in Compressed Sparse Row format>"
      ]
     },
     "execution_count": 32,
     "metadata": {},
     "output_type": "execute_result"
    }
   ],
   "source": [
    "bag_of_words_test = vect.transform(X_test)\n",
    "bag_of_words_test_norm = normalize(bag_of_words_test, norm='l2')\n",
    "bag_of_words_test_norm"
   ]
  },
  {
   "cell_type": "code",
   "execution_count": 33,
   "metadata": {
    "execution": {
     "iopub.execute_input": "2022-01-29T10:20:24.966815Z",
     "iopub.status.busy": "2022-01-29T10:20:24.966572Z",
     "iopub.status.idle": "2022-01-29T10:35:48.535159Z",
     "shell.execute_reply": "2022-01-29T10:35:48.533647Z",
     "shell.execute_reply.started": "2022-01-29T10:20:24.966788Z"
    }
   },
   "outputs": [],
   "source": [
    "parameters = {'C': [0.01, 0.1, 1.0, 10], 'gamma' : [1, 5, 10]}\n",
    "svm = SVC(kernel=\"rbf\")\n",
    "grid_search = tune_parameters(svm, bag_of_words_norm, y_train, parameters, cv=ss)"
   ]
  },
  {
   "cell_type": "code",
   "execution_count": 34,
   "metadata": {
    "execution": {
     "iopub.execute_input": "2022-01-29T10:35:48.537510Z",
     "iopub.status.busy": "2022-01-29T10:35:48.537206Z",
     "iopub.status.idle": "2022-01-29T10:37:58.426151Z",
     "shell.execute_reply": "2022-01-29T10:37:58.425263Z",
     "shell.execute_reply.started": "2022-01-29T10:35:48.537473Z"
    }
   },
   "outputs": [
    {
     "name": "stdout",
     "output_type": "stream",
     "text": [
      "Training accuracy: 0.8108888888888889\n",
      "Testing accuracy: 0.674\n",
      "Precision on test data: 0.6827731092436975\n",
      "Recall on test data: 0.65\n",
      "f1 score on test data: 0.665983606557377\n"
     ]
    }
   ],
   "source": [
    "svm_best = grid_search.best_estimator_\n",
    "evaluate_model(svm_best, bag_of_words_norm, bag_of_words_test_norm, y_train, y_test)"
   ]
  },
  {
   "cell_type": "code",
   "execution_count": 35,
   "metadata": {
    "execution": {
     "iopub.execute_input": "2022-01-29T10:37:58.428375Z",
     "iopub.status.busy": "2022-01-29T10:37:58.427618Z",
     "iopub.status.idle": "2022-01-29T10:37:58.435604Z",
     "shell.execute_reply": "2022-01-29T10:37:58.434642Z",
     "shell.execute_reply.started": "2022-01-29T10:37:58.428327Z"
    }
   },
   "outputs": [
    {
     "data": {
      "text/plain": [
       "{'C': 1.0, 'gamma': 1}"
      ]
     },
     "execution_count": 35,
     "metadata": {},
     "output_type": "execute_result"
    }
   ],
   "source": [
    "grid_search.best_params_"
   ]
  },
  {
   "cell_type": "code",
   "execution_count": 36,
   "metadata": {
    "execution": {
     "iopub.execute_input": "2022-01-29T10:37:58.437400Z",
     "iopub.status.busy": "2022-01-29T10:37:58.437003Z",
     "iopub.status.idle": "2022-01-29T10:37:58.467210Z",
     "shell.execute_reply": "2022-01-29T10:37:58.466416Z",
     "shell.execute_reply.started": "2022-01-29T10:37:58.437359Z"
    }
   },
   "outputs": [],
   "source": [
    "filename = '1.4_GridSearchCV.sav'\n",
    "pickle.dump(grid_search, open(filename, 'wb'))"
   ]
  },
  {
   "cell_type": "markdown",
   "metadata": {},
   "source": []
  },
  {
   "cell_type": "code",
   "execution_count": 37,
   "metadata": {
    "execution": {
     "iopub.execute_input": "2022-01-29T10:44:29.999431Z",
     "iopub.status.busy": "2022-01-29T10:44:29.998278Z",
     "iopub.status.idle": "2022-01-29T10:44:30.004866Z",
     "shell.execute_reply": "2022-01-29T10:44:30.003927Z",
     "shell.execute_reply.started": "2022-01-29T10:44:29.999389Z"
    }
   },
   "outputs": [],
   "source": [
    "def process_text(review):\n",
    "    review = review.lower()           # convert to lowercase\n",
    "\n",
    "    review = re.sub(\"[^a-zA-Z#]\", \" \", review)    # Replace numbers, characters with space\n",
    "\n",
    "    regex = re.compile('(?u)\\\\b\\\\w\\\\w+\\\\b')       # Break each sentence on the basis of punctuations, white spaces\n",
    "    stemmer = PorterStemmer()\n",
    "    return \" \".join([stemmer.stem(WordNetLemmatizer().lemmatize(token, pos='v')) for token in regex.findall(review)])"
   ]
  },
  {
   "cell_type": "code",
   "execution_count": 38,
   "metadata": {
    "execution": {
     "iopub.execute_input": "2022-01-29T10:44:31.469961Z",
     "iopub.status.busy": "2022-01-29T10:44:31.469678Z",
     "iopub.status.idle": "2022-01-29T10:45:31.610203Z",
     "shell.execute_reply": "2022-01-29T10:45:31.609210Z",
     "shell.execute_reply.started": "2022-01-29T10:44:31.469933Z"
    }
   },
   "outputs": [],
   "source": [
    "df_reviews = pd.Series([process_text(review) for review in df_reviews])"
   ]
  },
  {
   "cell_type": "code",
   "execution_count": 39,
   "metadata": {
    "execution": {
     "iopub.execute_input": "2022-01-29T10:45:31.612326Z",
     "iopub.status.busy": "2022-01-29T10:45:31.611992Z",
     "iopub.status.idle": "2022-01-29T10:45:31.617322Z",
     "shell.execute_reply": "2022-01-29T10:45:31.616243Z",
     "shell.execute_reply.started": "2022-01-29T10:45:31.612284Z"
    }
   },
   "outputs": [],
   "source": [
    "df_reviews.reset_index(drop=True, inplace=True)"
   ]
  },
  {
   "cell_type": "code",
   "execution_count": 40,
   "metadata": {
    "execution": {
     "iopub.execute_input": "2022-01-29T10:45:31.619176Z",
     "iopub.status.busy": "2022-01-29T10:45:31.618406Z",
     "iopub.status.idle": "2022-01-29T10:45:31.645868Z",
     "shell.execute_reply": "2022-01-29T10:45:31.643916Z",
     "shell.execute_reply.started": "2022-01-29T10:45:31.619143Z"
    }
   },
   "outputs": [],
   "source": [
    "X_train, X_test, y_train, y_test = train_test_split(df_reviews, labels, test_size=0.1, random_state=21, stratify=labels)"
   ]
  },
  {
   "cell_type": "code",
   "execution_count": 41,
   "metadata": {
    "execution": {
     "iopub.execute_input": "2022-01-29T11:54:01.890231Z",
     "iopub.status.busy": "2022-01-29T11:54:01.889658Z",
     "iopub.status.idle": "2022-01-29T11:54:01.896094Z",
     "shell.execute_reply": "2022-01-29T11:54:01.895409Z",
     "shell.execute_reply.started": "2022-01-29T11:54:01.890197Z"
    }
   },
   "outputs": [
    {
     "data": {
      "text/plain": [
       "(1000,)"
      ]
     },
     "execution_count": 41,
     "metadata": {},
     "output_type": "execute_result"
    }
   ],
   "source": [
    "X_test.shape\n"
   ]
  },
  {
   "cell_type": "code",
   "execution_count": 42,
   "metadata": {
    "execution": {
     "iopub.execute_input": "2022-01-29T10:45:31.649488Z",
     "iopub.status.busy": "2022-01-29T10:45:31.649100Z",
     "iopub.status.idle": "2022-01-29T10:45:31.657727Z",
     "shell.execute_reply": "2022-01-29T10:45:31.656947Z",
     "shell.execute_reply.started": "2022-01-29T10:45:31.649407Z"
    }
   },
   "outputs": [
    {
     "data": {
      "text/plain": [
       "Int64Index([1276, 9284, 5946, 1395, 6367, 4582, 6695, 6030, 9444, 8193,\n",
       "            ...\n",
       "            5684, 4476, 8264, 7860,  431, 4973, 3832, 4113, 4723, 8882],\n",
       "           dtype='int64', length=9000)"
      ]
     },
     "execution_count": 42,
     "metadata": {},
     "output_type": "execute_result"
    }
   ],
   "source": [
    "X_train.index"
   ]
  },
  {
   "cell_type": "code",
   "execution_count": 43,
   "metadata": {
    "execution": {
     "iopub.execute_input": "2022-01-29T10:45:31.659862Z",
     "iopub.status.busy": "2022-01-29T10:45:31.659043Z",
     "iopub.status.idle": "2022-01-29T10:45:31.670313Z",
     "shell.execute_reply": "2022-01-29T10:45:31.669300Z",
     "shell.execute_reply.started": "2022-01-29T10:45:31.659815Z"
    }
   },
   "outputs": [],
   "source": [
    "X_train_in = X_train.reset_index(drop=True)"
   ]
  },
  {
   "cell_type": "code",
   "execution_count": 44,
   "metadata": {
    "execution": {
     "iopub.execute_input": "2022-01-29T10:45:31.674094Z",
     "iopub.status.busy": "2022-01-29T10:45:31.673824Z",
     "iopub.status.idle": "2022-01-29T10:45:31.686756Z",
     "shell.execute_reply": "2022-01-29T10:45:31.685687Z",
     "shell.execute_reply.started": "2022-01-29T10:45:31.674064Z"
    }
   },
   "outputs": [],
   "source": [
    "reviews = pd.DataFrame({'review_text': X_train_in, 'labels': y_train})"
   ]
  },
  {
   "cell_type": "code",
   "execution_count": 45,
   "metadata": {
    "execution": {
     "iopub.execute_input": "2022-01-29T10:45:41.684490Z",
     "iopub.status.busy": "2022-01-29T10:45:41.683665Z",
     "iopub.status.idle": "2022-01-29T10:45:41.698095Z",
     "shell.execute_reply": "2022-01-29T10:45:41.697167Z",
     "shell.execute_reply.started": "2022-01-29T10:45:41.684433Z"
    }
   },
   "outputs": [
    {
     "data": {
      "text/html": [
       "<div>\n",
       "<style scoped>\n",
       "    .dataframe tbody tr th:only-of-type {\n",
       "        vertical-align: middle;\n",
       "    }\n",
       "\n",
       "    .dataframe tbody tr th {\n",
       "        vertical-align: top;\n",
       "    }\n",
       "\n",
       "    .dataframe thead th {\n",
       "        text-align: right;\n",
       "    }\n",
       "</style>\n",
       "<table border=\"1\" class=\"dataframe\">\n",
       "  <thead>\n",
       "    <tr style=\"text-align: right;\">\n",
       "      <th></th>\n",
       "      <th>review_text</th>\n",
       "      <th>labels</th>\n",
       "    </tr>\n",
       "  </thead>\n",
       "  <tbody>\n",
       "    <tr>\n",
       "      <th>0</th>\n",
       "      <td>possibl spoilersth whole movi be great until a...</td>\n",
       "      <td>1</td>\n",
       "    </tr>\n",
       "    <tr>\n",
       "      <th>1</th>\n",
       "      <td>let me start by say thi that have be one of th...</td>\n",
       "      <td>0</td>\n",
       "    </tr>\n",
       "    <tr>\n",
       "      <th>2</th>\n",
       "      <td>just don know be energ by all the hype for thi...</td>\n",
       "      <td>0</td>\n",
       "    </tr>\n",
       "    <tr>\n",
       "      <th>3</th>\n",
       "      <td>dare to say thi be the worst movi ve ever see ...</td>\n",
       "      <td>1</td>\n",
       "    </tr>\n",
       "    <tr>\n",
       "      <th>4</th>\n",
       "      <td>the th wave be american scienc fiction thrille...</td>\n",
       "      <td>0</td>\n",
       "    </tr>\n",
       "    <tr>\n",
       "      <th>...</th>\n",
       "      <td>...</td>\n",
       "      <td>...</td>\n",
       "    </tr>\n",
       "    <tr>\n",
       "      <th>8995</th>\n",
       "      <td>those that have not yet see room have not see ...</td>\n",
       "      <td>1</td>\n",
       "    </tr>\n",
       "    <tr>\n",
       "      <th>8996</th>\n",
       "      <td>the film have some great comed actor in it inc...</td>\n",
       "      <td>1</td>\n",
       "    </tr>\n",
       "    <tr>\n",
       "      <th>8997</th>\n",
       "      <td>from someon who have watch both film find thi ...</td>\n",
       "      <td>1</td>\n",
       "    </tr>\n",
       "    <tr>\n",
       "      <th>8998</th>\n",
       "      <td>tri not to be bia when stand in my local video...</td>\n",
       "      <td>1</td>\n",
       "    </tr>\n",
       "    <tr>\n",
       "      <th>8999</th>\n",
       "      <td>ve never be big fan of bond and haven bother w...</td>\n",
       "      <td>0</td>\n",
       "    </tr>\n",
       "  </tbody>\n",
       "</table>\n",
       "<p>9000 rows × 2 columns</p>\n",
       "</div>"
      ],
      "text/plain": [
       "                                            review_text  labels\n",
       "0     possibl spoilersth whole movi be great until a...       1\n",
       "1     let me start by say thi that have be one of th...       0\n",
       "2     just don know be energ by all the hype for thi...       0\n",
       "3     dare to say thi be the worst movi ve ever see ...       1\n",
       "4     the th wave be american scienc fiction thrille...       0\n",
       "...                                                 ...     ...\n",
       "8995  those that have not yet see room have not see ...       1\n",
       "8996  the film have some great comed actor in it inc...       1\n",
       "8997  from someon who have watch both film find thi ...       1\n",
       "8998  tri not to be bia when stand in my local video...       1\n",
       "8999  ve never be big fan of bond and haven bother w...       0\n",
       "\n",
       "[9000 rows x 2 columns]"
      ]
     },
     "execution_count": 45,
     "metadata": {},
     "output_type": "execute_result"
    }
   ],
   "source": [
    "reviews"
   ]
  },
  {
   "cell_type": "code",
   "execution_count": 46,
   "metadata": {
    "execution": {
     "iopub.execute_input": "2022-01-29T10:48:14.627623Z",
     "iopub.status.busy": "2022-01-29T10:48:14.627253Z",
     "iopub.status.idle": "2022-01-29T10:48:15.626024Z",
     "shell.execute_reply": "2022-01-29T10:48:15.625060Z",
     "shell.execute_reply.started": "2022-01-29T10:48:14.627586Z"
    }
   },
   "outputs": [
    {
     "data": {
      "text/plain": [
       "CountVectorizer(binary=True, stop_words='english')"
      ]
     },
     "execution_count": 46,
     "metadata": {},
     "output_type": "execute_result"
    }
   ],
   "source": [
    "vect = CountVectorizer(stop_words=\"english\", binary=True)\n",
    "vect.fit(reviews[reviews['labels']==1]['review_text'])"
   ]
  },
  {
   "cell_type": "code",
   "execution_count": 47,
   "metadata": {
    "execution": {
     "iopub.execute_input": "2022-01-29T10:51:46.452986Z",
     "iopub.status.busy": "2022-01-29T10:51:46.452151Z",
     "iopub.status.idle": "2022-01-29T10:51:47.373841Z",
     "shell.execute_reply": "2022-01-29T10:51:47.373188Z",
     "shell.execute_reply.started": "2022-01-29T10:51:46.452951Z"
    }
   },
   "outputs": [],
   "source": [
    "bag_of_words_spoiler = vect.transform(reviews[reviews['labels']==1]['review_text'])\n",
    "freq_spoiler = bag_of_words_spoiler.sum(axis=0)"
   ]
  },
  {
   "cell_type": "code",
   "execution_count": 48,
   "metadata": {
    "execution": {
     "iopub.execute_input": "2022-01-29T10:51:56.242213Z",
     "iopub.status.busy": "2022-01-29T10:51:56.241706Z",
     "iopub.status.idle": "2022-01-29T10:51:56.247853Z",
     "shell.execute_reply": "2022-01-29T10:51:56.247025Z",
     "shell.execute_reply.started": "2022-01-29T10:51:56.242176Z"
    }
   },
   "outputs": [
    {
     "data": {
      "text/plain": [
       "matrix([[2, 1, 1, ..., 1, 1, 1]], dtype=int64)"
      ]
     },
     "execution_count": 48,
     "metadata": {},
     "output_type": "execute_result"
    }
   ],
   "source": [
    "freq_spoiler"
   ]
  },
  {
   "cell_type": "code",
   "execution_count": 49,
   "metadata": {
    "execution": {
     "iopub.execute_input": "2022-01-29T10:52:10.862091Z",
     "iopub.status.busy": "2022-01-29T10:52:10.861278Z",
     "iopub.status.idle": "2022-01-29T10:52:10.867836Z",
     "shell.execute_reply": "2022-01-29T10:52:10.867009Z",
     "shell.execute_reply.started": "2022-01-29T10:52:10.862048Z"
    }
   },
   "outputs": [
    {
     "data": {
      "text/plain": [
       "<4500x25017 sparse matrix of type '<class 'numpy.int64'>'\n",
       "\twith 540150 stored elements in Compressed Sparse Row format>"
      ]
     },
     "execution_count": 49,
     "metadata": {},
     "output_type": "execute_result"
    }
   ],
   "source": [
    "bag_of_words_spoiler"
   ]
  },
  {
   "cell_type": "code",
   "execution_count": 50,
   "metadata": {
    "execution": {
     "iopub.execute_input": "2022-01-29T11:04:06.922855Z",
     "iopub.status.busy": "2022-01-29T11:04:06.921974Z",
     "iopub.status.idle": "2022-01-29T11:04:06.927963Z",
     "shell.execute_reply": "2022-01-29T11:04:06.927016Z",
     "shell.execute_reply.started": "2022-01-29T11:04:06.922820Z"
    }
   },
   "outputs": [
    {
     "data": {
      "text/plain": [
       "(1, 25017)"
      ]
     },
     "execution_count": 50,
     "metadata": {},
     "output_type": "execute_result"
    }
   ],
   "source": [
    "freq_spoiler.shape"
   ]
  },
  {
   "cell_type": "code",
   "execution_count": 51,
   "metadata": {
    "execution": {
     "iopub.execute_input": "2022-01-29T11:04:08.417334Z",
     "iopub.status.busy": "2022-01-29T11:04:08.417040Z",
     "iopub.status.idle": "2022-01-29T11:04:08.422367Z",
     "shell.execute_reply": "2022-01-29T11:04:08.421545Z",
     "shell.execute_reply.started": "2022-01-29T11:04:08.417301Z"
    }
   },
   "outputs": [],
   "source": [
    "freq_spoiler = np.ravel(freq_spoiler)"
   ]
  },
  {
   "cell_type": "code",
   "execution_count": 52,
   "metadata": {
    "execution": {
     "iopub.execute_input": "2022-01-29T11:04:11.030773Z",
     "iopub.status.busy": "2022-01-29T11:04:11.030460Z",
     "iopub.status.idle": "2022-01-29T11:04:11.035913Z",
     "shell.execute_reply": "2022-01-29T11:04:11.035083Z",
     "shell.execute_reply.started": "2022-01-29T11:04:11.030745Z"
    }
   },
   "outputs": [
    {
     "data": {
      "text/plain": [
       "array([2, 1, 1, ..., 1, 1, 1], dtype=int64)"
      ]
     },
     "execution_count": 52,
     "metadata": {},
     "output_type": "execute_result"
    }
   ],
   "source": [
    "freq_spoiler"
   ]
  },
  {
   "cell_type": "code",
   "execution_count": 53,
   "metadata": {
    "execution": {
     "iopub.execute_input": "2022-01-29T11:04:12.992294Z",
     "iopub.status.busy": "2022-01-29T11:04:12.991998Z",
     "iopub.status.idle": "2022-01-29T11:04:12.997941Z",
     "shell.execute_reply": "2022-01-29T11:04:12.996950Z",
     "shell.execute_reply.started": "2022-01-29T11:04:12.992267Z"
    }
   },
   "outputs": [
    {
     "data": {
      "text/plain": [
       "(25017,)"
      ]
     },
     "execution_count": 53,
     "metadata": {},
     "output_type": "execute_result"
    }
   ],
   "source": [
    "freq_spoiler.shape"
   ]
  },
  {
   "cell_type": "code",
   "execution_count": 54,
   "metadata": {
    "execution": {
     "iopub.execute_input": "2022-01-29T11:04:15.420189Z",
     "iopub.status.busy": "2022-01-29T11:04:15.419477Z",
     "iopub.status.idle": "2022-01-29T11:04:15.426535Z",
     "shell.execute_reply": "2022-01-29T11:04:15.425682Z",
     "shell.execute_reply.started": "2022-01-29T11:04:15.420146Z"
    }
   },
   "outputs": [
    {
     "data": {
      "text/plain": [
       "array([2, 1, 1, ..., 1, 1, 1], dtype=int64)"
      ]
     },
     "execution_count": 54,
     "metadata": {},
     "output_type": "execute_result"
    }
   ],
   "source": [
    "freq_spoiler"
   ]
  },
  {
   "cell_type": "code",
   "execution_count": 55,
   "metadata": {
    "execution": {
     "iopub.execute_input": "2022-01-29T11:04:16.545837Z",
     "iopub.status.busy": "2022-01-29T11:04:16.545537Z",
     "iopub.status.idle": "2022-01-29T11:04:16.552736Z",
     "shell.execute_reply": "2022-01-29T11:04:16.551917Z",
     "shell.execute_reply.started": "2022-01-29T11:04:16.545806Z"
    }
   },
   "outputs": [
    {
     "data": {
      "text/plain": [
       "540150"
      ]
     },
     "execution_count": 55,
     "metadata": {},
     "output_type": "execute_result"
    }
   ],
   "source": [
    "freq_spoiler.sum()"
   ]
  },
  {
   "cell_type": "code",
   "execution_count": 56,
   "metadata": {
    "execution": {
     "iopub.execute_input": "2022-01-29T11:04:25.724964Z",
     "iopub.status.busy": "2022-01-29T11:04:25.724687Z",
     "iopub.status.idle": "2022-01-29T11:04:25.733856Z",
     "shell.execute_reply": "2022-01-29T11:04:25.732916Z",
     "shell.execute_reply.started": "2022-01-29T11:04:25.724936Z"
    }
   },
   "outputs": [],
   "source": [
    "freq_spoiler_norm = freq_spoiler/np.linalg.norm(freq_spoiler)"
   ]
  },
  {
   "cell_type": "code",
   "execution_count": 57,
   "metadata": {
    "execution": {
     "iopub.execute_input": "2022-01-29T11:04:30.884547Z",
     "iopub.status.busy": "2022-01-29T11:04:30.883885Z",
     "iopub.status.idle": "2022-01-29T11:04:30.891876Z",
     "shell.execute_reply": "2022-01-29T11:04:30.890899Z",
     "shell.execute_reply.started": "2022-01-29T11:04:30.884495Z"
    }
   },
   "outputs": [
    {
     "data": {
      "text/plain": [
       "32.41990911184031"
      ]
     },
     "execution_count": 57,
     "metadata": {},
     "output_type": "execute_result"
    }
   ],
   "source": [
    "freq_spoiler_norm.sum()"
   ]
  },
  {
   "cell_type": "code",
   "execution_count": 58,
   "metadata": {
    "execution": {
     "iopub.execute_input": "2022-01-29T11:04:37.581366Z",
     "iopub.status.busy": "2022-01-29T11:04:37.581056Z",
     "iopub.status.idle": "2022-01-29T11:04:38.254509Z",
     "shell.execute_reply": "2022-01-29T11:04:38.253764Z",
     "shell.execute_reply.started": "2022-01-29T11:04:37.581336Z"
    }
   },
   "outputs": [],
   "source": [
    "bag_of_words_non_spoiler = vect.transform(reviews[reviews['labels']==0]['review_text'])\n",
    "freq_non_spoiler = bag_of_words_non_spoiler.sum(axis=0)"
   ]
  },
  {
   "cell_type": "code",
   "execution_count": 59,
   "metadata": {
    "execution": {
     "iopub.execute_input": "2022-01-29T11:04:38.256638Z",
     "iopub.status.busy": "2022-01-29T11:04:38.256131Z",
     "iopub.status.idle": "2022-01-29T11:04:38.263108Z",
     "shell.execute_reply": "2022-01-29T11:04:38.262067Z",
     "shell.execute_reply.started": "2022-01-29T11:04:38.256597Z"
    }
   },
   "outputs": [
    {
     "data": {
      "text/plain": [
       "<4500x25017 sparse matrix of type '<class 'numpy.int64'>'\n",
       "\twith 383643 stored elements in Compressed Sparse Row format>"
      ]
     },
     "execution_count": 59,
     "metadata": {},
     "output_type": "execute_result"
    }
   ],
   "source": [
    "bag_of_words_non_spoiler"
   ]
  },
  {
   "cell_type": "code",
   "execution_count": 60,
   "metadata": {
    "execution": {
     "iopub.execute_input": "2022-01-29T11:04:39.670168Z",
     "iopub.status.busy": "2022-01-29T11:04:39.669813Z",
     "iopub.status.idle": "2022-01-29T11:04:39.675488Z",
     "shell.execute_reply": "2022-01-29T11:04:39.674847Z",
     "shell.execute_reply.started": "2022-01-29T11:04:39.670132Z"
    }
   },
   "outputs": [
    {
     "data": {
      "text/plain": [
       "(1, 25017)"
      ]
     },
     "execution_count": 60,
     "metadata": {},
     "output_type": "execute_result"
    }
   ],
   "source": [
    "freq_non_spoiler.shape"
   ]
  },
  {
   "cell_type": "code",
   "execution_count": 61,
   "metadata": {
    "execution": {
     "iopub.execute_input": "2022-01-29T11:04:40.400787Z",
     "iopub.status.busy": "2022-01-29T11:04:40.400081Z",
     "iopub.status.idle": "2022-01-29T11:04:40.405759Z",
     "shell.execute_reply": "2022-01-29T11:04:40.405005Z",
     "shell.execute_reply.started": "2022-01-29T11:04:40.400744Z"
    }
   },
   "outputs": [
    {
     "data": {
      "text/plain": [
       "(25017,)"
      ]
     },
     "execution_count": 61,
     "metadata": {},
     "output_type": "execute_result"
    }
   ],
   "source": [
    "freq_non_spoiler = np.ravel(freq_non_spoiler)\n",
    "freq_non_spoiler.shape"
   ]
  },
  {
   "cell_type": "code",
   "execution_count": 63,
   "metadata": {
    "execution": {
     "iopub.execute_input": "2022-01-29T11:04:52.690633Z",
     "iopub.status.busy": "2022-01-29T11:04:52.690309Z",
     "iopub.status.idle": "2022-01-29T11:04:52.700867Z",
     "shell.execute_reply": "2022-01-29T11:04:52.699636Z",
     "shell.execute_reply.started": "2022-01-29T11:04:52.690605Z"
    }
   },
   "outputs": [],
   "source": [
    "freq_non_spoiler_norm = freq_non_spoiler/np.linalg.norm(freq_non_spoiler)"
   ]
  },
  {
   "cell_type": "code",
   "execution_count": 64,
   "metadata": {
    "execution": {
     "iopub.execute_input": "2022-01-29T11:04:57.831044Z",
     "iopub.status.busy": "2022-01-29T11:04:57.830751Z",
     "iopub.status.idle": "2022-01-29T11:04:57.838034Z",
     "shell.execute_reply": "2022-01-29T11:04:57.837214Z",
     "shell.execute_reply.started": "2022-01-29T11:04:57.831016Z"
    }
   },
   "outputs": [
    {
     "data": {
      "text/plain": [
       "28.673400345670462"
      ]
     },
     "execution_count": 64,
     "metadata": {},
     "output_type": "execute_result"
    }
   ],
   "source": [
    "freq_non_spoiler_norm.sum()"
   ]
  },
  {
   "cell_type": "code",
   "execution_count": 65,
   "metadata": {
    "execution": {
     "iopub.execute_input": "2022-01-29T11:04:59.326332Z",
     "iopub.status.busy": "2022-01-29T11:04:59.325890Z",
     "iopub.status.idle": "2022-01-29T11:04:59.333281Z",
     "shell.execute_reply": "2022-01-29T11:04:59.332131Z",
     "shell.execute_reply.started": "2022-01-29T11:04:59.326301Z"
    }
   },
   "outputs": [
    {
     "data": {
      "text/plain": [
       "array([1, 0, 0, ..., 0, 0, 0], dtype=int64)"
      ]
     },
     "execution_count": 65,
     "metadata": {},
     "output_type": "execute_result"
    }
   ],
   "source": [
    "freq_non_spoiler"
   ]
  },
  {
   "cell_type": "code",
   "execution_count": 66,
   "metadata": {
    "execution": {
     "iopub.execute_input": "2022-01-29T11:05:06.319961Z",
     "iopub.status.busy": "2022-01-29T11:05:06.319679Z",
     "iopub.status.idle": "2022-01-29T11:05:06.326669Z",
     "shell.execute_reply": "2022-01-29T11:05:06.325904Z",
     "shell.execute_reply.started": "2022-01-29T11:05:06.319934Z"
    }
   },
   "outputs": [
    {
     "data": {
      "text/plain": [
       "744"
      ]
     },
     "execution_count": 66,
     "metadata": {},
     "output_type": "execute_result"
    }
   ],
   "source": [
    "np.abs(freq_spoiler - freq_non_spoiler).max()"
   ]
  },
  {
   "cell_type": "code",
   "execution_count": 69,
   "metadata": {
    "execution": {
     "iopub.execute_input": "2021-09-18T09:22:56.539493Z",
     "iopub.status.busy": "2021-09-18T09:22:56.539021Z",
     "iopub.status.idle": "2021-09-18T09:22:56.547345Z",
     "shell.execute_reply": "2021-09-18T09:22:56.546417Z",
     "shell.execute_reply.started": "2021-09-18T09:22:56.539458Z"
    },
    "scrolled": true
   },
   "outputs": [
    {
     "data": {
      "text/plain": [
       "271"
      ]
     },
     "execution_count": 69,
     "metadata": {},
     "output_type": "execute_result"
    }
   ],
   "source": [
    "(np.abs(freq_spoiler - freq_non_spoiler) > 100).sum()"
   ]
  },
  {
   "cell_type": "code",
   "execution_count": 70,
   "metadata": {
    "execution": {
     "iopub.execute_input": "2022-01-29T11:07:10.103005Z",
     "iopub.status.busy": "2022-01-29T11:07:10.102704Z",
     "iopub.status.idle": "2022-01-29T11:07:10.111304Z",
     "shell.execute_reply": "2022-01-29T11:07:10.110211Z",
     "shell.execute_reply.started": "2022-01-29T11:07:10.102977Z"
    }
   },
   "outputs": [
    {
     "data": {
      "text/plain": [
       "(array([   53,   112,   167,   173,   181,   196,   339,   572,   594,\n",
       "          779,   809,   817,   882,   924,   930,  1169,  1265,  1296,\n",
       "         1399,  1488,  1706,  1832,  1842,  1871,  1878,  1920,  2049,\n",
       "         2090,  2173,  2372,  2576,  2660,  2746,  2813,  2901,  3244,\n",
       "         3264,  3353,  3395,  3579,  3601,  3762,  3944,  4263,  4332,\n",
       "         4511,  4551,  4699,  4727,  4732,  4831,  5069,  5262,  5286,\n",
       "         5313,  5354,  5625,  5732,  5734,  5747,  5828,  5844,  5880,\n",
       "         6061,  6107,  6452,  6532,  6765,  6827,  6876,  6959,  7074,\n",
       "         7162,  7168,  7177,  7186,  7211,  7269,  7286,  7342,  7367,\n",
       "         7381,  7397,  7424,  7439,  7479,  7537,  7602,  7625,  7727,\n",
       "         7742,  7762,  8016,  8055,  8259,  8595,  8756,  8859,  8929,\n",
       "         9242,  9290,  9336,  9374,  9473,  9520,  9563,  9565,  9576,\n",
       "         9723,  9753,  9848,  9872,  9943,  9977, 10121, 10154, 10279,\n",
       "        10280, 10296, 10335, 10348, 10500, 10654, 10728, 10984, 11220,\n",
       "        11681, 11909, 11927, 11951, 12050, 12378, 12450, 12467, 12473,\n",
       "        12584, 12658, 12674, 12689, 12728, 12771, 12780, 12785, 12869,\n",
       "        12887, 12934, 12938, 12968, 13258, 13279, 13334, 13366, 13592,\n",
       "        13622, 13736, 13786, 13843, 13987, 14065, 14118, 14305, 14328,\n",
       "        14472, 14615, 14834, 14861, 14938, 14982, 15015, 15187, 15344,\n",
       "        15424, 15446, 15497, 15509, 15540, 15590, 15606, 16291, 16361,\n",
       "        16630, 16643, 16668, 16715, 16766, 16895, 16948, 17076, 17142,\n",
       "        17499, 17769, 17779, 17786, 17787, 17797, 18020, 18250, 18259,\n",
       "        18271, 18381, 18583, 18740, 19048, 19061, 19066, 19117, 19276,\n",
       "        19362, 19447, 19453, 19487, 19535, 19770, 19778, 19932, 19948,\n",
       "        19961, 20015, 20458, 20460, 20468, 20533, 20610, 20710, 20866,\n",
       "        20886, 20909, 20920, 21089, 21096, 21233, 21440, 21452, 21480,\n",
       "        21700, 21844, 21898, 22054, 22109, 22114, 22177, 22253, 22335,\n",
       "        22620, 22783, 22924, 23093, 23519, 23703, 23789, 23811, 24018,\n",
       "        24036, 24072, 24074, 24097, 24123, 24137, 24175, 24329, 24420,\n",
       "        24582, 24640, 24651, 24664, 24667, 24678, 24707, 24712, 24812,\n",
       "        24866], dtype=int64),)"
      ]
     },
     "execution_count": 70,
     "metadata": {},
     "output_type": "execute_result"
    }
   ],
   "source": [
    "np.where(np.abs(freq_spoiler - freq_non_spoiler) > 100)"
   ]
  },
  {
   "cell_type": "code",
   "execution_count": 71,
   "metadata": {
    "execution": {
     "iopub.execute_input": "2022-01-29T11:07:13.204202Z",
     "iopub.status.busy": "2022-01-29T11:07:13.203929Z",
     "iopub.status.idle": "2022-01-29T11:07:13.235715Z",
     "shell.execute_reply": "2022-01-29T11:07:13.234822Z",
     "shell.execute_reply.started": "2022-01-29T11:07:13.204177Z"
    }
   },
   "outputs": [],
   "source": [
    "good_words = pd.Series(vect.get_feature_names()).iloc[np.abs(freq_spoiler_norm - freq_non_spoiler_norm) > 0.01]"
   ]
  },
  {
   "cell_type": "code",
   "execution_count": 72,
   "metadata": {
    "execution": {
     "iopub.execute_input": "2022-01-29T11:07:15.352284Z",
     "iopub.status.busy": "2022-01-29T11:07:15.352006Z",
     "iopub.status.idle": "2022-01-29T11:07:15.359372Z",
     "shell.execute_reply": "2022-01-29T11:07:15.358792Z",
     "shell.execute_reply.started": "2022-01-29T11:07:15.352257Z"
    }
   },
   "outputs": [
    {
     "data": {
      "text/plain": [
       "178        actor\n",
       "1871       befor\n",
       "1878       begin\n",
       "2026        best\n",
       "4263        come\n",
       "5313       death\n",
       "5734         die\n",
       "6876         end\n",
       "6919       enjoy\n",
       "7742        film\n",
       "7762       final\n",
       "8929        good\n",
       "9117       great\n",
       "9563      happen\n",
       "9977          hi\n",
       "11927       kill\n",
       "12050       know\n",
       "12473       leav\n",
       "13334        man\n",
       "14511       movi\n",
       "16319    perform\n",
       "16766      point\n",
       "19048       save\n",
       "19117      scene\n",
       "20710    spoiler\n",
       "20909      start\n",
       "22099        thi\n",
       "22620        tri\n",
       "22783       turn\n",
       "23519        use\n",
       "24329        whi\n",
       "dtype: object"
      ]
     },
     "execution_count": 72,
     "metadata": {},
     "output_type": "execute_result"
    }
   ],
   "source": [
    "good_words"
   ]
  },
  {
   "cell_type": "code",
   "execution_count": 73,
   "metadata": {
    "execution": {
     "iopub.execute_input": "2022-01-29T11:14:12.204656Z",
     "iopub.status.busy": "2022-01-29T11:14:12.204260Z",
     "iopub.status.idle": "2022-01-29T11:14:12.240400Z",
     "shell.execute_reply": "2022-01-29T11:14:12.239535Z",
     "shell.execute_reply.started": "2022-01-29T11:14:12.204618Z"
    }
   },
   "outputs": [
    {
     "data": {
      "text/plain": [
       "(28, 7)"
      ]
     },
     "execution_count": 73,
     "metadata": {},
     "output_type": "execute_result"
    }
   ],
   "source": [
    "words = pd.Series(vect.get_feature_names()).iloc[np.abs(freq_spoiler - freq_non_spoiler) > 100]\n",
    "vocabulary = {key : value for value, key in enumerate(words)}\n",
    "vocabulary_good = {key : value for value, key in enumerate(words_good)}\n",
    "vocabulary_good['turn'], vocabulary_good['end']"
   ]
  },
  {
   "cell_type": "code",
   "execution_count": 74,
   "metadata": {
    "execution": {
     "iopub.execute_input": "2022-01-29T11:14:13.187028Z",
     "iopub.status.busy": "2022-01-29T11:14:13.186513Z",
     "iopub.status.idle": "2022-01-29T11:14:14.658500Z",
     "shell.execute_reply": "2022-01-29T11:14:14.657592Z",
     "shell.execute_reply.started": "2022-01-29T11:14:13.186980Z"
    }
   },
   "outputs": [
    {
     "data": {
      "text/plain": [
       "CountVectorizer(vocabulary={'actor': 0, 'befor': 1, 'begin': 2, 'best': 3,\n",
       "                            'come': 4, 'death': 5, 'die': 6, 'end': 7,\n",
       "                            'enjoy': 8, 'film': 9, 'final': 10, 'good': 11,\n",
       "                            'great': 12, 'happen': 13, 'hi': 14, 'kill': 15,\n",
       "                            'know': 16, 'leav': 17, 'man': 18, 'movi': 19,\n",
       "                            'perform': 20, 'point': 21, 'save': 22, 'scene': 23,\n",
       "                            'spoiler': 24, 'start': 25, 'thi': 26, 'tri': 27,\n",
       "                            'turn': 28, 'use': 29, ...})"
      ]
     },
     "execution_count": 74,
     "metadata": {},
     "output_type": "execute_result"
    }
   ],
   "source": [
    "vect_1 = CountVectorizer(vocabulary=vocabulary_good)\n",
    "vect_1.fit(X_train)"
   ]
  },
  {
   "cell_type": "code",
   "execution_count": 75,
   "metadata": {
    "execution": {
     "iopub.execute_input": "2022-01-29T11:14:25.884814Z",
     "iopub.status.busy": "2022-01-29T11:14:25.884540Z",
     "iopub.status.idle": "2022-01-29T11:14:27.345130Z",
     "shell.execute_reply": "2022-01-29T11:14:27.344215Z",
     "shell.execute_reply.started": "2022-01-29T11:14:25.884788Z"
    }
   },
   "outputs": [
    {
     "data": {
      "text/plain": [
       "<9000x31 sparse matrix of type '<class 'numpy.float64'>'\n",
       "\twith 74719 stored elements in Compressed Sparse Row format>"
      ]
     },
     "execution_count": 75,
     "metadata": {},
     "output_type": "execute_result"
    }
   ],
   "source": [
    "bag_of_words = vect_1.transform(X_train)\n",
    "bag_of_words\n",
    "bag_of_words_norm = normalize(bag_of_words)\n",
    "bag_of_words_norm"
   ]
  },
  {
   "cell_type": "code",
   "execution_count": 76,
   "metadata": {
    "execution": {
     "iopub.execute_input": "2022-01-29T11:17:50.198872Z",
     "iopub.status.busy": "2022-01-29T11:17:50.198590Z",
     "iopub.status.idle": "2022-01-29T11:17:50.204731Z",
     "shell.execute_reply": "2022-01-29T11:17:50.203974Z",
     "shell.execute_reply.started": "2022-01-29T11:17:50.198845Z"
    }
   },
   "outputs": [
    {
     "data": {
      "text/plain": [
       "<9000x31 sparse matrix of type '<class 'numpy.float64'>'\n",
       "\twith 74719 stored elements in Compressed Sparse Row format>"
      ]
     },
     "execution_count": 76,
     "metadata": {},
     "output_type": "execute_result"
    }
   ],
   "source": [
    "bag_of_words_norm"
   ]
  },
  {
   "cell_type": "code",
   "execution_count": 77,
   "metadata": {
    "execution": {
     "iopub.execute_input": "2022-01-29T11:15:21.654227Z",
     "iopub.status.busy": "2022-01-29T11:15:21.653896Z",
     "iopub.status.idle": "2022-01-29T11:15:21.660333Z",
     "shell.execute_reply": "2022-01-29T11:15:21.659584Z",
     "shell.execute_reply.started": "2022-01-29T11:15:21.654192Z"
    }
   },
   "outputs": [
    {
     "data": {
      "text/plain": [
       "(9000, 31)"
      ]
     },
     "execution_count": 77,
     "metadata": {},
     "output_type": "execute_result"
    }
   ],
   "source": [
    "bag_of_words_norm_dense = bag_of_words.todense()\n",
    "bag_of_words_norm_dense.shape"
   ]
  },
  {
   "cell_type": "code",
   "execution_count": 78,
   "metadata": {
    "execution": {
     "iopub.execute_input": "2022-01-29T11:18:31.059134Z",
     "iopub.status.busy": "2022-01-29T11:18:31.058619Z",
     "iopub.status.idle": "2022-01-29T11:18:31.064240Z",
     "shell.execute_reply": "2022-01-29T11:18:31.063506Z",
     "shell.execute_reply.started": "2022-01-29T11:18:31.059100Z"
    }
   },
   "outputs": [
    {
     "data": {
      "text/plain": [
       "(9000, 1)"
      ]
     },
     "execution_count": 78,
     "metadata": {},
     "output_type": "execute_result"
    }
   ],
   "source": [
    "bag_of_words_norm_dense[:, 24].shape"
   ]
  },
  {
   "cell_type": "code",
   "execution_count": 79,
   "metadata": {
    "execution": {
     "iopub.execute_input": "2022-01-29T11:18:35.452870Z",
     "iopub.status.busy": "2022-01-29T11:18:35.452404Z",
     "iopub.status.idle": "2022-01-29T11:18:35.619093Z",
     "shell.execute_reply": "2022-01-29T11:18:35.618540Z",
     "shell.execute_reply.started": "2022-01-29T11:18:35.452837Z"
    }
   },
   "outputs": [
    {
     "data": {
      "text/plain": [
       "<1000x31 sparse matrix of type '<class 'numpy.float64'>'\n",
       "\twith 8162 stored elements in Compressed Sparse Row format>"
      ]
     },
     "execution_count": 79,
     "metadata": {},
     "output_type": "execute_result"
    }
   ],
   "source": [
    "bag_of_words_test = vect_1.transform(X_test)\n",
    "bag_of_words_test\n",
    "bag_of_words_test_norm = normalize(bag_of_words_test)\n",
    "bag_of_words_test_norm"
   ]
  },
  {
   "cell_type": "code",
   "execution_count": 80,
   "metadata": {
    "execution": {
     "iopub.execute_input": "2022-01-29T11:35:31.861033Z",
     "iopub.status.busy": "2022-01-29T11:35:31.860572Z",
     "iopub.status.idle": "2022-01-29T11:35:34.877154Z",
     "shell.execute_reply": "2022-01-29T11:35:34.876022Z",
     "shell.execute_reply.started": "2022-01-29T11:35:31.861001Z"
    }
   },
   "outputs": [
    {
     "name": "stderr",
     "output_type": "stream",
     "text": [
      "C:\\ProgramData\\Anaconda3\\lib\\site-packages\\sklearn\\svm\\_base.py:976: ConvergenceWarning: Liblinear failed to converge, increase the number of iterations.\n",
      "  warnings.warn(\"Liblinear failed to converge, increase \"\n"
     ]
    },
    {
     "data": {
      "image/png": "[encoded data removed]",
      "text/plain": [
       "<Figure size 432x288 with 1 Axes>"
      ]
     },
     "metadata": {
      "needs_background": "light"
     },
     "output_type": "display_data"
    }
   ],
   "source": [
    "parameters = {'C': [0.01, 0.03, 0.1, 0.3, 1.0, 3.0, 9.0]}\n",
    "svm = LinearSVC(C=10, loss='hinge', max_iter=10000)\n",
    "grid_search = tune_parameters(svm, bag_of_words_norm, y_train, parameters, verbose=True)"
   ]
  },
  {
   "cell_type": "code",
   "execution_count": 81,
   "metadata": {
    "execution": {
     "iopub.execute_input": "2022-01-29T11:36:02.280426Z",
     "iopub.status.busy": "2022-01-29T11:36:02.279556Z",
     "iopub.status.idle": "2022-01-29T11:36:11.749238Z",
     "shell.execute_reply": "2022-01-29T11:36:11.748303Z",
     "shell.execute_reply.started": "2022-01-29T11:36:02.280373Z"
    }
   },
   "outputs": [
    {
     "data": {
      "text/plain": [
       "SVC(C=1, gamma=1)"
      ]
     },
     "execution_count": 81,
     "metadata": {},
     "output_type": "execute_result"
    }
   ],
   "source": [
    "svm = SVC(kernel=\"rbf\", gamma=1, C=1)\n",
    "svm.fit(bag_of_words_norm, y_train)"
   ]
  },
  {
   "cell_type": "code",
   "execution_count": 82,
   "metadata": {
    "execution": {
     "iopub.execute_input": "2022-01-29T11:36:17.540942Z",
     "iopub.status.busy": "2022-01-29T11:36:17.540653Z",
     "iopub.status.idle": "2022-01-29T11:36:26.366205Z",
     "shell.execute_reply": "2022-01-29T11:36:26.365119Z",
     "shell.execute_reply.started": "2022-01-29T11:36:17.540913Z"
    }
   },
   "outputs": [
    {
     "name": "stdout",
     "output_type": "stream",
     "text": [
      "Training accuracy: 0.6851111111111111\n",
      "Testing accuracy: 0.626\n",
      "Precision on test data: 0.6582914572864321\n",
      "Recall on test data: 0.524\n",
      "f1 score on test data: 0.5835189309576837\n"
     ]
    }
   ],
   "source": [
    "model = evaluate_model(svm, bag_of_words_norm, bag_of_words_test_norm, y_train, y_test)"
   ]
  },
  {
   "cell_type": "code",
   "execution_count": 84,
   "metadata": {
    "execution": {
     "iopub.execute_input": "2021-09-18T10:31:00.984809Z",
     "iopub.status.busy": "2021-09-18T10:31:00.984388Z",
     "iopub.status.idle": "2021-09-18T10:31:01.010411Z",
     "shell.execute_reply": "2021-09-18T10:31:01.008962Z",
     "shell.execute_reply.started": "2021-09-18T10:31:00.984774Z"
    }
   },
   "outputs": [
    {
     "data": {
      "text/plain": [
       "array([0])"
      ]
     },
     "execution_count": 84,
     "metadata": {},
     "output_type": "execute_result"
    }
   ],
   "source": [
    "text_input = \"\"\" after the novella Rita Hayworth and the Shawshank Redemption, by Stephen King) was nominated for seven Academy Awards, and walked away with zero. Best Picture went to Forrest Gump, while Shawshank and Pulp Fiction were \"just happy to be nominated.\" Of course hindsight is 20/20, but while history looks back on Gump as a good film, Pulp and Redemption are remembered as some of the all-time best. Pulp, however, was a success from the word \"go,\" making a huge splash at Cannes and making its writer-director an American master after only two films. For Andy Dufresne and Co., success didn't come easy. Fortunately, failure wasn't a life sentence.After opening on 33 screens with take of $727,327, the $25M film fell fast from theatres and finished with a mere $28.3M. The reasons for failure are many. Firstly, the title is a clunker. While iconic to fans today, in 1994, people knew not and cared not what a 'Shawshank' was. On the DVD, Tim Robbins laughs recounting fans congratulating him on \"that 'Rickshaw' movie.\" Marketing-wise, the film's a nightmare, as 'prison drama' is a tough sell to women, and the story of love between two best friends doesn't spell winner to men. Worst of all, the movie is slow as molasses. As Desson Thomson writes for the Washington Post, \"it wanders down subplots at every opportunity and ignores an abundance of narrative exit points before settling on its finale.\" But it is these same weaknesses that make the film so strong.Firstly, its setting. The opening aerial shots of the prison are a total eye-opener. This is an amazing piece of architecture, strong and Gothic in design. Immediately, the prison becomes a character. It casts its shadow over most of the film, its tall stone walls stretching above every shot. It towers over the men it contains, blotting out all memories of the outside world. Only Andy (Robbins) holds onto hope. It's in music, it's in the sandy beaches of Zihuatanejo; \"In here's where you need it most,\" he says. \"You need it so you don't forget. Forget that there are places in the world that aren't made out of stone. That there's a - there's a - there's something inside that's yours, that they can't touch.\" Red (Morgan Freeman) doesn't think much of Andy at first, picking \"that tall glass o' milk with the silver spoon up his ass\" as the first new fish to crack. Andy says not a word, and losing his bet, Red resents him for it. But over time, as the two get to know each other, they quickly become the best of friends. This again, is one of the film's major strengths. Many movies are about love, many flicks have a side-kick to the hero, but Shawshank is the only one I can think of that looks honestly at the love between two best friends. It seems odd that Hollywood would skip this relationship time and again, when it's a feeling that weighs so much into everyone's day to day lives. Perhaps it's too sentimental to seem conventional, but Shawshank's core friendship hits all the right notes, and the film is much better for it.It's pacing is deliberate as well. As we spend the film watching the same actors, it is easy to forget that the movie's timeline spans well over 20 years. Such a huge measure of time would pass slowly in reality, and would only be amplified in prison. And it's not as if the film lacks interest in these moments. It still knows where it's going, it merely intends on taking its sweet time getting there. It pays off as well, as the tedium of prison life makes the climax that much more exhilarating. For anyone who sees it, it is a moment never to be forgotten.With themes of faith and hope, there is a definite religious subtext to be found here. Quiet, selfless and carefree, Andy is an obvious Christ figure. Warden Norton (Bob Gunton) is obviously modeled on Richard Nixon, who, in his day, was as close to a personified Satan as they come. But if you aren't looking for subtexts, the movie speaks to anyone in search of hope. It is a compelling drama, and a very moving film, perfectly written, acted and shot. They just don't come much better than this.OVERALL SCORE: 9.8/10 = A+ The Shawshank Redemption served as a message of hope to Hollywood as well. More than any film in memory, it proved there is life after box office. Besting Forrest and Fiction, it ran solely on strong word of mouth and became the hottest rented film of 1995. It currently sits at #2 in the IMDb's Top 250 Films, occasionally swapping spots with The Godfather as the top ranked film of all time -- redemption indeed. If you haven't seen it yet, what the hell are you waiting for? As Andy says, \"It comes down a simple choice, really. Either get busy living, or get busy dying.\"\"\"\n",
    "result = svm.predict(vect_1.transform([text_input]))\n",
    "result"
   ]
  },
  {
   "cell_type": "code",
   "execution_count": 85,
   "metadata": {
    "execution": {
     "iopub.execute_input": "2021-09-18T10:45:02.546702Z",
     "iopub.status.busy": "2021-09-18T10:45:02.54598Z",
     "iopub.status.idle": "2021-09-18T10:45:02.550429Z",
     "shell.execute_reply": "2021-09-18T10:45:02.549677Z",
     "shell.execute_reply.started": "2021-09-18T10:45:02.546664Z"
    }
   },
   "outputs": [],
   "source": [
    "modelsave = 'finalized_model.sav'\n",
    "pickle.dump(model, open(modelsave, 'wb'))\n"
   ]
  },
  {
   "cell_type": "code",
   "execution_count": 86,
   "metadata": {
    "execution": {
     "iopub.execute_input": "2021-09-18T10:50:29.167027Z",
     "iopub.status.busy": "2021-09-18T10:50:29.166753Z",
     "iopub.status.idle": "2021-09-18T10:50:29.175075Z",
     "shell.execute_reply": "2021-09-18T10:50:29.174305Z",
     "shell.execute_reply.started": "2021-09-18T10:50:29.166996Z"
    }
   },
   "outputs": [],
   "source": [
    "model_final = 'finalizing_model.h5'\n",
    "pickle.dump(svm,open(model_final,'wb'))"
   ]
  },
  {
   "cell_type": "code",
   "execution_count": 87,
   "metadata": {
    "execution": {
     "iopub.execute_input": "2021-09-18T10:52:39.089023Z",
     "iopub.status.busy": "2021-09-18T10:52:39.088456Z",
     "iopub.status.idle": "2021-09-18T10:52:39.096287Z",
     "shell.execute_reply": "2021-09-18T10:52:39.095242Z",
     "shell.execute_reply.started": "2021-09-18T10:52:39.088986Z"
    }
   },
   "outputs": [
    {
     "name": "stdout",
     "output_type": "stream",
     "text": [
      "SVC(C=1, gamma=1)\n"
     ]
    }
   ],
   "source": [
    "loaded_model = pickle.load(open(model_final,'rb'))\n",
    "print(loaded_model)"
   ]
  },
  {
   "cell_type": "code",
   "execution_count": 88,
   "metadata": {
    "execution": {
     "iopub.execute_input": "2021-09-18T10:58:06.362251Z",
     "iopub.status.busy": "2021-09-18T10:58:06.361937Z",
     "iopub.status.idle": "2021-09-18T10:58:06.373057Z",
     "shell.execute_reply": "2021-09-18T10:58:06.37239Z",
     "shell.execute_reply.started": "2021-09-18T10:58:06.362217Z"
    }
   },
   "outputs": [
    {
     "data": {
      "text/plain": [
       "0"
      ]
     },
     "execution_count": 88,
     "metadata": {},
     "output_type": "execute_result"
    }
   ],
   "source": [
    "text_input = 'the story of young, loved-up couple Gatsby (Timothée Chalamet) and Ashleigh (Elle Fanning), who embark on a weekend in New York. When Ashleigh is handed her biggest assignment for the school paper -- to interview esteemed Hollywood director Roland Pollard (Liev Schreiber) -- the couple go expecting romance and sightseeing. But neither come easily as Ashleigh finds herself chasing a story that sends her down an unexpected path.'\n",
    "result = (loaded_model.predict(vect_1.transform([text_input]))[0])\n",
    "result"
   ]
  },
  {
   "cell_type": "code",
   "execution_count": 90,
   "metadata": {},
   "outputs": [
    {
     "data": {
      "text/plain": [
       "0"
      ]
     },
     "execution_count": 90,
     "metadata": {},
     "output_type": "execute_result"
    }
   ],
   "source": [
    "text_inp=\"My favorite part was when MJ fell and Andrew’s Spider-Man caught her😭 like, it felt so heart-warming and it genuinely brought tears to my eyes because we all know he couldn’t save Gwen, but he just had to save Tom’s MJ. And you could see him getting all teary eyed and it just made that moment even more special.  Honestly that was one of the greatest scenes and I just keep replaying it in my head. I have never seen an audience go this wild  (even compared to Endgame/Infinity War) when Andrew swooped in to save her, there was so many applauds and “awwws” all around. Truly magnificent. I absolutely loved it.\"\n",
    "result = (loaded_model.predict(vect_1.transform([text_input]))[0])\n",
    "result"
   ]
  },
  {
   "cell_type": "code",
   "execution_count": null,
   "metadata": {},
   "outputs": [],
   "source": []
  },
  {
   "cell_type": "code",
   "execution_count": null,
   "metadata": {},
   "outputs": [],
   "source": []
  },
  {
   "cell_type": "code",
   "execution_count": null,
   "metadata": {},
   "outputs": [],
   "source": []
  },
  {
   "cell_type": "code",
   "execution_count": null,
   "metadata": {},
   "outputs": [],
   "source": []
  },
  {
   "cell_type": "code",
   "execution_count": null,
   "metadata": {},
   "outputs": [],
   "source": []
  },
  {
   "cell_type": "code",
   "execution_count": null,
   "metadata": {},
   "outputs": [],
   "source": []
  },
  {
   "cell_type": "code",
   "execution_count": null,
   "metadata": {},
   "outputs": [],
   "source": []
  },
  {
   "cell_type": "code",
   "execution_count": null,
   "metadata": {},
   "outputs": [],
   "source": []
  },
  {
   "cell_type": "code",
   "execution_count": null,
   "metadata": {},
   "outputs": [],
   "source": []
  },
  {
   "cell_type": "code",
   "execution_count": null,
   "metadata": {},
   "outputs": [],
   "source": []
  },
  {
   "cell_type": "code",
   "execution_count": null,
   "metadata": {},
   "outputs": [],
   "source": []
  },
  {
   "cell_type": "code",
   "execution_count": null,
   "metadata": {},
   "outputs": [],
   "source": []
  },
  {
   "cell_type": "code",
   "execution_count": null,
   "metadata": {},
   "outputs": [],
   "source": []
  },
  {
   "cell_type": "code",
   "execution_count": null,
   "metadata": {},
   "outputs": [],
   "source": []
  },
  {
   "cell_type": "code",
   "execution_count": null,
   "metadata": {},
   "outputs": [],
   "source": []
  },
  {
   "cell_type": "code",
   "execution_count": null,
   "metadata": {},
   "outputs": [],
   "source": []
  },
  {
   "cell_type": "code",
   "execution_count": null,
   "metadata": {},
   "outputs": [],
   "source": []
  },
  {
   "cell_type": "code",
   "execution_count": null,
   "metadata": {},
   "outputs": [],
   "source": []
  },
  {
   "cell_type": "code",
   "execution_count": null,
   "metadata": {},
   "outputs": [],
   "source": []
  },
  {
   "cell_type": "code",
   "execution_count": null,
   "metadata": {},
   "outputs": [],
   "source": []
  },
  {
   "cell_type": "code",
   "execution_count": null,
   "metadata": {},
   "outputs": [],
   "source": []
  }
 ],
 "metadata": {
  "kernelspec": {
   "display_name": "Python 3 (ipykernel)",
   "language": "python",
   "name": "python3"
  },
  "language_info": {
   "codemirror_mode": {
    "name": "ipython",
    "version": 3
   },
   "file_extension": ".py",
   "mimetype": "text/x-python",
   "name": "python",
   "nbconvert_exporter": "python",
   "pygments_lexer": "ipython3",
   "version": "3.9.5"
  }
 },
 "nbformat": 4,
 "nbformat_minor": 4
}
